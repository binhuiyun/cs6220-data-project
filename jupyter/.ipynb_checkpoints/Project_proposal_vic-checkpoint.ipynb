{
 "cells": [
  {
   "cell_type": "code",
   "execution_count": 122,
   "id": "957e903a",
   "metadata": {},
   "outputs": [],
   "source": [
    "import pandas as pd\n",
    "import numpy as np\n",
    "\n",
    "# Global change of number formats\n",
    "def format_float(value):\n",
    "    return f'{value:,.2f}'\n",
    "pd.options.display.float_format = format_float\n",
    "\n",
    "# Global change of display setting\n",
    "pd.options.display.max_rows = 10"
   ]
  },
  {
   "cell_type": "code",
   "execution_count": 126,
   "id": "6397fb1c",
   "metadata": {},
   "outputs": [],
   "source": [
    "#import data from 2012 through 2020\n",
    "national_M2012_path = \"../data/national_M2012_dl.xls\"\n",
    "national_M2013_path = \"../data/national_M2013_dl.xls\"\n",
    "national_M2014_path = \"../data/national_M2014_dl.xlsx\"\n",
    "national_M2015_path = \"../data/national_M2015_dl.xlsx\"\n",
    "national_M2016_path = \"../data/national_M2016_dl.xlsx\"\n",
    "national_M2017_path = \"../data/national_M2017_dl.xlsx\"\n",
    "national_M2018_path = \"../data/national_M2018_dl.xlsx\"\n",
    "national_M2019_path = \"../data/national_M2019_dl.xlsx\"\n",
    "national_M2020_path = \"../data/national_M2020_dl.xlsx\"\n",
    "\n",
    "# might need to pip install xlrd for reading xls files (old excel)\n",
    "national_M2012 = pd.read_excel(national_M2012_path,engine=None)\n",
    "national_M2013 = pd.read_excel(national_M2013_path,engine=None)\n",
    "national_M2014 = pd.read_excel(national_M2014_path, engine='openpyxl')\n",
    "national_M2015 = pd.read_excel(national_M2015_path, engine='openpyxl')\n",
    "national_M2016 = pd.read_excel(national_M2016_path, engine='openpyxl')\n",
    "national_M2017 = pd.read_excel(national_M2017_path, engine='openpyxl')\n",
    "national_M2018 = pd.read_excel(national_M2018_path, engine='openpyxl')\n",
    "national_M2019 = pd.read_excel(national_M2019_path, engine='openpyxl')\n",
    "national_M2020 = pd.read_excel(national_M2020_path, engine='openpyxl')\n",
    "\n",
    "# decode OCC CODE\n",
    "employee_title_path = \"../data/occ_code_reference.xlsx\"\n",
    "employee_title = pd.read_excel(employee_title_path, engine='openpyxl')"
   ]
  },
  {
   "cell_type": "code",
   "execution_count": 128,
   "id": "50a98086",
   "metadata": {},
   "outputs": [],
   "source": [
    "national_M2019.columns = [x.upper() for x in national_M2019.columns]\n",
    "national_M2020.columns = [x.upper() for x in national_M2020.columns]"
   ]
  },
  {
   "cell_type": "code",
   "execution_count": 129,
   "id": "263856d1",
   "metadata": {},
   "outputs": [],
   "source": [
    "df_list = [national_M2012, national_M2013, national_M2014, national_M2015, national_M2016, \n",
    "           national_M2017, national_M2018, national_M2019, national_M2020]"
   ]
  },
  {
   "cell_type": "code",
   "execution_count": 131,
   "id": "b8b6d507",
   "metadata": {},
   "outputs": [],
   "source": [
    "import numpy as np\n",
    "def preprocess(df):\n",
    "    new_df = df[['OCC_CODE','TOT_EMP','H_MEAN','H_MEDIAN','A_MEAN','A_MEDIAN']]\n",
    "    new_df = new_df.replace(['*', '#', '**', '~'], np.NaN)  # drop non numberic rows\n",
    "    tmpDF = pd.DataFrame(columns=['OCC_CODE','SUB_CODE'])\n",
    "    tmpDF[['OCC_CODE','SUB_CODE']] = df['OCC_CODE'].str.split('-', expand=True)\n",
    "    new_df['OCC_CODE'] = tmpDF['OCC_CODE']\n",
    "    return new_df"
   ]
  },
  {
   "cell_type": "code",
   "execution_count": 132,
   "id": "2f7c107b",
   "metadata": {},
   "outputs": [],
   "source": [
    "def aggByOCC(df, column_name):\n",
    "    new = df.groupby('OCC_CODE').agg({column_name: ['mean', 'min', 'max']})\n",
    "    return new"
   ]
  },
  {
   "cell_type": "code",
   "execution_count": 135,
   "id": "481fe413",
   "metadata": {},
   "outputs": [],
   "source": [
    "df_2012 = preprocess(national_M2012)\n",
    "df_2013 = preprocess(national_M2013)\n",
    "df_2014 = preprocess(national_M2014)\n",
    "df_2015 = preprocess(national_M2015)\n",
    "df_2016 = preprocess(national_M2016)\n",
    "df_2017 = preprocess(national_M2017)\n",
    "df_2018 = preprocess(national_M2018)\n",
    "df_2019 = preprocess(national_M2019)\n",
    "df_2020 = preprocess(national_M2020)"
   ]
  },
  {
   "cell_type": "code",
   "execution_count": 138,
   "id": "c82919d3",
   "metadata": {},
   "outputs": [],
   "source": [
    "agg_2012_mean_wage = aggByOCC(df_2012, 'A_MEAN')\n",
    "agg_2013_mean_wage = aggByOCC(df_2013, 'A_MEAN')\n",
    "agg_2014_mean_wage = aggByOCC(df_2014, 'A_MEAN')\n",
    "agg_2015_mean_wage = aggByOCC(df_2015, 'A_MEAN')\n",
    "agg_2016_mean_wage = aggByOCC(df_2016, 'A_MEAN')\n",
    "agg_2017_mean_wage = aggByOCC(df_2017, 'A_MEAN')\n",
    "agg_2018_mean_wage = aggByOCC(df_2018, 'A_MEAN')\n",
    "agg_2019_mean_wage = aggByOCC(df_2019, 'A_MEAN')\n",
    "agg_2020_mean_wage = aggByOCC(df_2020, 'A_MEAN')"
   ]
  },
  {
   "cell_type": "code",
   "execution_count": null,
   "id": "4d3b8e44",
   "metadata": {},
   "outputs": [],
   "source": [
    "year_list = ['2012', '2013', '2014', '2015', '2016', '2017', '2018',' 2019', '2020']\n",
    "agg_mean_wage_list = [agg_2012_mean_wage, agg_2013_mean_wage, agg_2014_mean_wage, agg_2015_mean_wage, \n",
    "                      agg_2016_mean_wage, agg_2017_mean_wage, agg_2018_mean_wage, agg_2019_mean_wage, \n",
    "                      agg_2020_mean_wage]\n"
   ]
  },
  {
   "cell_type": "code",
   "execution_count": null,
   "id": "97545b6b",
   "metadata": {},
   "outputs": [],
   "source": [
    "mean_wage = pd.DataFrame()"
   ]
  },
  {
   "cell_type": "code",
   "execution_count": 139,
   "id": "24c82030",
   "metadata": {},
   "outputs": [
    {
     "data": {
      "text/html": [
       "<div>\n",
       "<style scoped>\n",
       "    .dataframe tbody tr th:only-of-type {\n",
       "        vertical-align: middle;\n",
       "    }\n",
       "\n",
       "    .dataframe tbody tr th {\n",
       "        vertical-align: top;\n",
       "    }\n",
       "\n",
       "    .dataframe thead tr th {\n",
       "        text-align: left;\n",
       "    }\n",
       "\n",
       "    .dataframe thead tr:last-of-type th {\n",
       "        text-align: right;\n",
       "    }\n",
       "</style>\n",
       "<table border=\"1\" class=\"dataframe\">\n",
       "  <thead>\n",
       "    <tr>\n",
       "      <th></th>\n",
       "      <th colspan=\"3\" halign=\"left\">A_MEAN</th>\n",
       "    </tr>\n",
       "    <tr>\n",
       "      <th></th>\n",
       "      <th>mean</th>\n",
       "      <th>min</th>\n",
       "      <th>max</th>\n",
       "    </tr>\n",
       "    <tr>\n",
       "      <th>OCC_CODE</th>\n",
       "      <th></th>\n",
       "      <th></th>\n",
       "      <th></th>\n",
       "    </tr>\n",
       "  </thead>\n",
       "  <tbody>\n",
       "    <tr>\n",
       "      <th>00</th>\n",
       "      <td>45,790.00</td>\n",
       "      <td>45,790.00</td>\n",
       "      <td>45,790.00</td>\n",
       "    </tr>\n",
       "    <tr>\n",
       "      <th>11</th>\n",
       "      <td>96,014.93</td>\n",
       "      <td>38,590.00</td>\n",
       "      <td>176,840.00</td>\n",
       "    </tr>\n",
       "    <tr>\n",
       "      <th>13</th>\n",
       "      <td>66,234.31</td>\n",
       "      <td>38,590.00</td>\n",
       "      <td>90,820.00</td>\n",
       "    </tr>\n",
       "    <tr>\n",
       "      <th>15</th>\n",
       "      <td>82,631.82</td>\n",
       "      <td>50,130.00</td>\n",
       "      <td>106,680.00</td>\n",
       "    </tr>\n",
       "    <tr>\n",
       "      <th>17</th>\n",
       "      <td>79,677.33</td>\n",
       "      <td>42,680.00</td>\n",
       "      <td>147,470.00</td>\n",
       "    </tr>\n",
       "    <tr>\n",
       "      <th>...</th>\n",
       "      <td>...</td>\n",
       "      <td>...</td>\n",
       "      <td>...</td>\n",
       "    </tr>\n",
       "    <tr>\n",
       "      <th>45</th>\n",
       "      <td>32,917.04</td>\n",
       "      <td>19,990.00</td>\n",
       "      <td>46,410.00</td>\n",
       "    </tr>\n",
       "    <tr>\n",
       "      <th>47</th>\n",
       "      <td>43,407.21</td>\n",
       "      <td>25,030.00</td>\n",
       "      <td>74,140.00</td>\n",
       "    </tr>\n",
       "    <tr>\n",
       "      <th>49</th>\n",
       "      <td>43,751.58</td>\n",
       "      <td>25,250.00</td>\n",
       "      <td>67,380.00</td>\n",
       "    </tr>\n",
       "    <tr>\n",
       "      <th>51</th>\n",
       "      <td>35,620.48</td>\n",
       "      <td>20,730.00</td>\n",
       "      <td>76,020.00</td>\n",
       "    </tr>\n",
       "    <tr>\n",
       "      <th>53</th>\n",
       "      <td>46,208.35</td>\n",
       "      <td>21,540.00</td>\n",
       "      <td>128,760.00</td>\n",
       "    </tr>\n",
       "  </tbody>\n",
       "</table>\n",
       "<p>23 rows × 3 columns</p>\n",
       "</div>"
      ],
      "text/plain": [
       "            A_MEAN                     \n",
       "              mean       min        max\n",
       "OCC_CODE                               \n",
       "00       45,790.00 45,790.00  45,790.00\n",
       "11       96,014.93 38,590.00 176,840.00\n",
       "13       66,234.31 38,590.00  90,820.00\n",
       "15       82,631.82 50,130.00 106,680.00\n",
       "17       79,677.33 42,680.00 147,470.00\n",
       "...            ...       ...        ...\n",
       "45       32,917.04 19,990.00  46,410.00\n",
       "47       43,407.21 25,030.00  74,140.00\n",
       "49       43,751.58 25,250.00  67,380.00\n",
       "51       35,620.48 20,730.00  76,020.00\n",
       "53       46,208.35 21,540.00 128,760.00\n",
       "\n",
       "[23 rows x 3 columns]"
      ]
     },
     "execution_count": 139,
     "metadata": {},
     "output_type": "execute_result"
    }
   ],
   "source": [
    "agg_2012_mean_wage"
   ]
  },
  {
   "cell_type": "code",
   "execution_count": null,
   "id": "ade00fc5",
   "metadata": {},
   "outputs": [],
   "source": []
  }
 ],
 "metadata": {
  "kernelspec": {
   "display_name": "Python 3 (ipykernel)",
   "language": "python",
   "name": "python3"
  },
  "language_info": {
   "codemirror_mode": {
    "name": "ipython",
    "version": 3
   },
   "file_extension": ".py",
   "mimetype": "text/x-python",
   "name": "python",
   "nbconvert_exporter": "python",
   "pygments_lexer": "ipython3",
   "version": "3.9.5"
  }
 },
 "nbformat": 4,
 "nbformat_minor": 5
}
