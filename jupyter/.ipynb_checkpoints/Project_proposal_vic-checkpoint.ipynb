{
 "cells": [
  {
   "cell_type": "code",
   "execution_count": 12,
   "id": "a66cacd0",
   "metadata": {},
   "outputs": [],
   "source": [
    "import pandas as pd\n",
    "\n",
    "national_M2012_path = \"../data/national_M2012_dl.xls\"\n",
    "national_M2013_path = \"../data/national_M2013_dl.xls\"\n",
    "national_M2014_path = \"../data/national_M2014_dl.xlsx\"\n",
    "national_M2015_path = \"../data/national_M2015_dl.xlsx\"\n",
    "national_M2016_path = \"../data/national_M2016_dl.xlsx\"\n",
    "national_M2017_path = \"../data/national_M2017_dl.xlsx\"\n",
    "national_M2018_path = \"../data/national_M2018_dl.xlsx\"\n",
    "national_M2019_path = \"../data/national_M2019_dl.xlsx\"\n",
    "national_M2020_path = \"../data/national_M2020_dl.xlsx\""
   ]
  },
  {
   "cell_type": "code",
   "execution_count": 18,
   "id": "5c987aaa",
   "metadata": {},
   "outputs": [],
   "source": [
    "national_M2012 = pd.read_excel(national_M2012_path,engine=None)\n",
    "national_M2013 = pd.read_excel(national_M2013_path,engine=None)\n",
    "national_M2014 = pd.read_excel(national_M2014_path, engine='openpyxl')\n",
    "national_M2015 = pd.read_excel(national_M2015_path, engine='openpyxl')\n",
    "national_M2016 = pd.read_excel(national_M2016_path, engine='openpyxl')\n",
    "national_M2017 = pd.read_excel(national_M2017_path, engine='openpyxl')\n",
    "national_M2018 = pd.read_excel(national_M2018_path, engine='openpyxl')\n",
    "national_M2019 = pd.read_excel(national_M2019_path, engine='openpyxl')\n",
    "national_M2020 = pd.read_excel(national_M2020_path, engine='openpyxl')"
   ]
  },
  {
   "cell_type": "code",
   "execution_count": 20,
   "id": "9b7bc393",
   "metadata": {},
   "outputs": [],
   "source": [
    "df_list = [national_M2012, national_M2013, national_M2014, national_M2015, national_M2016, national_M2017, national_M2018, national_M2019, national_M2020]\n"
   ]
  },
  {
   "cell_type": "code",
   "execution_count": 21,
   "id": "ac6de49a",
   "metadata": {},
   "outputs": [
    {
     "name": "stdout",
     "output_type": "stream",
     "text": [
      "1394\n",
      "1394\n",
      "1394\n",
      "1394\n",
      "1394\n",
      "1382\n",
      "1379\n",
      "1329\n",
      "1329\n"
     ]
    }
   ],
   "source": [
    "for i in df_list:\n",
    "    print(len(i))"
   ]
  },
  {
   "cell_type": "code",
   "execution_count": null,
   "id": "4ac486ad",
   "metadata": {},
   "outputs": [],
   "source": []
  }
 ],
 "metadata": {
  "kernelspec": {
   "display_name": "Python 3 (ipykernel)",
   "language": "python",
   "name": "python3"
  },
  "language_info": {
   "codemirror_mode": {
    "name": "ipython",
    "version": 3
   },
   "file_extension": ".py",
   "mimetype": "text/x-python",
   "name": "python",
   "nbconvert_exporter": "python",
   "pygments_lexer": "ipython3",
   "version": "3.9.5"
  }
 },
 "nbformat": 4,
 "nbformat_minor": 5
}
