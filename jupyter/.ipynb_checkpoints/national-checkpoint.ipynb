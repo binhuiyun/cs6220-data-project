{
 "cells": [
  {
   "cell_type": "code",
   "execution_count": 105,
   "id": "b1099d92",
   "metadata": {},
   "outputs": [],
   "source": [
    "import pandas as pd\n",
    "import numpy as np\n",
    "import matplotlib.pyplot as plt\n",
    "import seaborn as sns\n",
    "import glob\n",
    "import collections"
   ]
  },
  {
   "cell_type": "code",
   "execution_count": 106,
   "id": "71cfd35d",
   "metadata": {},
   "outputs": [],
   "source": [
    "# Global change of number formats\n",
    "def format_float(value):\n",
    "    return f'{value:,.2f}'\n",
    "pd.options.display.float_format = format_float\n",
    "\n",
    "# Global change of display setting\n",
    "pd.options.display.max_rows = 10"
   ]
  },
  {
   "cell_type": "code",
   "execution_count": 107,
   "id": "123b4e5d",
   "metadata": {},
   "outputs": [
    {
     "data": {
      "text/plain": [
       "{'00-0000': 'Total, all occupations',\n",
       " '11-0000': 'Management occupations',\n",
       " '13-0000': 'Business and financial operations occupations',\n",
       " '15-0000': 'Computer and mathematical occupations',\n",
       " '17-0000': 'Architecture and engineering occupations',\n",
       " '19-0000': 'Life, physical, and social science occupations',\n",
       " '21-0000': 'Community and social service occupations',\n",
       " '23-0000': 'Legal occupations',\n",
       " '25-0000': 'Educational instruction and library occupations',\n",
       " '27-0000': 'Arts, design, entertainment, sports, and media occupations',\n",
       " '29-0000': 'Healthcare practitioners and technical occupations',\n",
       " '31-0000': 'Healthcare support occupations',\n",
       " '33-0000': 'Protective service occupations',\n",
       " '35-0000': 'Food preparation and serving related occupations',\n",
       " '37-0000': 'Building and grounds cleaning and maintenance occupations',\n",
       " '39-0000': 'Personal care and service occupations',\n",
       " '41-0000': 'Sales and related occupations',\n",
       " '43-0000': 'Office and administrative support occupations',\n",
       " '45-0000': 'Farming, fishing, and forestry occupations',\n",
       " '47-0000': 'Construction and extraction occupations',\n",
       " '49-0000': 'Installation, maintenance, and repair occupations',\n",
       " '51-0000': 'Production occupations',\n",
       " '53-0000': 'Transportation and material moving occupations'}"
      ]
     },
     "execution_count": 107,
     "metadata": {},
     "output_type": "execute_result"
    }
   ],
   "source": [
    "occ_reference = pd.read_excel(\"../data/occ_code_reference.xlsx\", engine='openpyxl')\n",
    "occ_dict = dict(zip(occ_reference[\"Employment code\"], occ_reference[\"Employment title\"]))\n",
    "occ_dict"
   ]
  },
  {
   "cell_type": "code",
   "execution_count": 108,
   "id": "af8e0a5d",
   "metadata": {},
   "outputs": [],
   "source": [
    "files = glob.glob(\"../data/national/*.xlsx\")\n",
    "frames = {}\n",
    "\n",
    "# Import all national data and store in a dictionary. Key: year; Value: dataframe.\n",
    "for f in files:\n",
    "    key = f[-12:-8]\n",
    "    frames[key] = pd.read_excel(f, engine='openpyxl', \n",
    "                             usecols=\"A, D, F, G, K, P\")\n",
    "\n",
    "# Used Columns: \n",
    "\n",
    "# A - OCC_CODE; \n",
    "# D - TOT_EMP; \n",
    "# F - H_MEAN; \n",
    "# G - A_MEAN; \n",
    "# K - H_MEDIAN; \n",
    "# P - A_MEDIAN;"
   ]
  },
  {
   "cell_type": "code",
   "execution_count": 109,
   "id": "15faafa5",
   "metadata": {},
   "outputs": [],
   "source": [
    "# sort frames by ascending order\n",
    "frames = collections.OrderedDict(sorted(frames.items()))"
   ]
  },
  {
   "cell_type": "code",
   "execution_count": 110,
   "id": "2f785057",
   "metadata": {},
   "outputs": [],
   "source": [
    "import numpy as np\n",
    "def preprocess(df):\n",
    "    df = df.replace(['*', '#', '**', '~'], np.NaN)  # drop non numberic rows\n",
    "    tmpDF = pd.DataFrame(columns=['OCC_CODE','SUB_CODE'])\n",
    "    tmpDF[['OCC_CODE','SUB_CODE']] = df['OCC_CODE'].str.split('-', expand=True)\n",
    "    df['OCC_CODE'] = tmpDF['OCC_CODE']\n",
    "    return df"
   ]
  },
  {
   "cell_type": "code",
   "execution_count": 111,
   "id": "adcb7587",
   "metadata": {},
   "outputs": [],
   "source": [
    "for key, value in frames.items():\n",
    "    frames[key] = preprocess(value)"
   ]
  },
  {
   "cell_type": "code",
   "execution_count": 112,
   "id": "6e1f273a",
   "metadata": {},
   "outputs": [],
   "source": [
    "# aggregate data by given column\n",
    "def aggByOCC(df, column_name):\n",
    "    new = df.groupby('OCC_CODE').agg({column_name: ['mean', 'min', 'max']})\n",
    "    return new"
   ]
  },
  {
   "cell_type": "code",
   "execution_count": 113,
   "id": "de1577ca",
   "metadata": {},
   "outputs": [],
   "source": [
    "# aggregate by mean annual wage \n",
    "agg_a_mean = {}\n",
    "\n",
    "# aggregate by mean hourly wage \n",
    "agg_h_mean = {}\n",
    "\n",
    "# aggregate by median annual wage \n",
    "agg_a_median = {}\n",
    "\n",
    "# aggregate by median hourly wage \n",
    "agg_h_median = {}\n",
    "\n",
    "for key, value in frames.items():\n",
    "    agg_a_mean[key] = aggByOCC(value,'A_MEAN')\n",
    "    agg_h_mean[key] = aggByOCC(value,'H_MEAN')\n",
    "    agg_a_median[key] = aggByOCC(value,'A_MEDIAN')\n",
    "    agg_h_median[key] = aggByOCC(value,'A_MEDIAN')"
   ]
  },
  {
   "cell_type": "code",
   "execution_count": 114,
   "id": "866b24ad",
   "metadata": {},
   "outputs": [],
   "source": [
    "# get historical data of a occupation (given occ_code) from 2012 to 2021\n",
    "# dictionary: one of the four dictionaries created above\n",
    "def agg_by_occupation(dictionary, occ_code):\n",
    "    res_df = pd.DataFrame()\n",
    "    for key, value in dictionary.items():\n",
    "        selec_row = value.loc[occ_code].rename(key[-4:])\n",
    "        res_df = pd.concat([res_df, selec_row], axis = 1)\n",
    "    return res_df"
   ]
  },
  {
   "cell_type": "code",
   "execution_count": 115,
   "id": "c4a3100e",
   "metadata": {},
   "outputs": [],
   "source": [
    "# get Computer and mathematical occupations (occ_code = 15) 9 years mean wage\n",
    "computer_mathematical = agg_by_occupation(agg_a_mean, '15')\n",
    "computer_mathematical = computer_mathematical.loc['A_MEAN']"
   ]
  },
  {
   "cell_type": "code",
   "execution_count": 116,
   "id": "a4f910e0",
   "metadata": {},
   "outputs": [
    {
     "data": {
      "text/html": [
       "<div>\n",
       "<style scoped>\n",
       "    .dataframe tbody tr th:only-of-type {\n",
       "        vertical-align: middle;\n",
       "    }\n",
       "\n",
       "    .dataframe tbody tr th {\n",
       "        vertical-align: top;\n",
       "    }\n",
       "\n",
       "    .dataframe thead th {\n",
       "        text-align: right;\n",
       "    }\n",
       "</style>\n",
       "<table border=\"1\" class=\"dataframe\">\n",
       "  <thead>\n",
       "    <tr style=\"text-align: right;\">\n",
       "      <th></th>\n",
       "      <th>2012</th>\n",
       "      <th>2013</th>\n",
       "      <th>2014</th>\n",
       "      <th>2015</th>\n",
       "      <th>2016</th>\n",
       "      <th>2017</th>\n",
       "      <th>2018</th>\n",
       "      <th>2019</th>\n",
       "      <th>2020</th>\n",
       "      <th>2021</th>\n",
       "    </tr>\n",
       "  </thead>\n",
       "  <tbody>\n",
       "    <tr>\n",
       "      <th>mean</th>\n",
       "      <td>82,631.82</td>\n",
       "      <td>84,660.91</td>\n",
       "      <td>86,814.85</td>\n",
       "      <td>88,570.91</td>\n",
       "      <td>89,632.42</td>\n",
       "      <td>92,245.31</td>\n",
       "      <td>93,969.06</td>\n",
       "      <td>97,529.00</td>\n",
       "      <td>100,421.33</td>\n",
       "      <td>102,018.06</td>\n",
       "    </tr>\n",
       "    <tr>\n",
       "      <th>min</th>\n",
       "      <td>50,130.00</td>\n",
       "      <td>50,450.00</td>\n",
       "      <td>51,500.00</td>\n",
       "      <td>52,430.00</td>\n",
       "      <td>53,100.00</td>\n",
       "      <td>54,150.00</td>\n",
       "      <td>55,050.00</td>\n",
       "      <td>56,550.00</td>\n",
       "      <td>57,000.00</td>\n",
       "      <td>57,650.00</td>\n",
       "    </tr>\n",
       "    <tr>\n",
       "      <th>max</th>\n",
       "      <td>106,680.00</td>\n",
       "      <td>109,260.00</td>\n",
       "      <td>113,190.00</td>\n",
       "      <td>115,580.00</td>\n",
       "      <td>116,320.00</td>\n",
       "      <td>119,570.00</td>\n",
       "      <td>123,850.00</td>\n",
       "      <td>127,460.00</td>\n",
       "      <td>130,890.00</td>\n",
       "      <td>142,650.00</td>\n",
       "    </tr>\n",
       "  </tbody>\n",
       "</table>\n",
       "</div>"
      ],
      "text/plain": [
       "           2012       2013       2014       2015       2016       2017  \\\n",
       "mean  82,631.82  84,660.91  86,814.85  88,570.91  89,632.42  92,245.31   \n",
       "min   50,130.00  50,450.00  51,500.00  52,430.00  53,100.00  54,150.00   \n",
       "max  106,680.00 109,260.00 113,190.00 115,580.00 116,320.00 119,570.00   \n",
       "\n",
       "           2018       2019       2020       2021  \n",
       "mean  93,969.06  97,529.00 100,421.33 102,018.06  \n",
       "min   55,050.00  56,550.00  57,000.00  57,650.00  \n",
       "max  123,850.00 127,460.00 130,890.00 142,650.00  "
      ]
     },
     "execution_count": 116,
     "metadata": {},
     "output_type": "execute_result"
    }
   ],
   "source": [
    "computer_mathematical"
   ]
  },
  {
   "cell_type": "code",
   "execution_count": 117,
   "id": "22de7bb4",
   "metadata": {
    "scrolled": true
   },
   "outputs": [
    {
     "data": {
      "image/png": "[encoded data removed]",
      "text/plain": [
       "<Figure size 360x360 with 1 Axes>"
      ]
     },
     "metadata": {
      "needs_background": "light"
     },
     "output_type": "display_data"
    }
   ],
   "source": [
    "plt.figure(figsize=(5,5))\n",
    "plt.plot(computer_mathematical.columns,computer_mathematical.loc['mean'])\n",
    "plt.title('Computer and Mathemetical Occupations Wages')\n",
    "plt.xlabel('Year')\n",
    "plt.ylabel('Annual Wages in US dollars')\n",
    "plt.show()"
   ]
  },
  {
   "cell_type": "code",
   "execution_count": null,
   "id": "cce12164",
   "metadata": {},
   "outputs": [],
   "source": []
  }
 ],
 "metadata": {
  "kernelspec": {
   "display_name": "Python 3 (ipykernel)",
   "language": "python",
   "name": "python3"
  },
  "language_info": {
   "codemirror_mode": {
    "name": "ipython",
    "version": 3
   },
   "file_extension": ".py",
   "mimetype": "text/x-python",
   "name": "python",
   "nbconvert_exporter": "python",
   "pygments_lexer": "ipython3",
   "version": "3.9.5"
  }
 },
 "nbformat": 4,
 "nbformat_minor": 5
}
