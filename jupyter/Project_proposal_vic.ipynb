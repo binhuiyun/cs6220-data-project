{
 "cells": [
  {
   "cell_type": "code",
   "execution_count": 224,
   "id": "8e2402a4",
   "metadata": {},
   "outputs": [],
   "source": [
    "import pandas as pd\n",
    "import numpy as np\n",
    "import matplotlib.pyplot as plt\n",
    "import seaborn as sns\n",
    "# Global change of number formats\n",
    "def format_float(value):\n",
    "    return f'{value:,.2f}'\n",
    "pd.options.display.float_format = format_float\n",
    "\n",
    "# Global change of display setting\n",
    "pd.options.display.max_rows = 10"
   ]
  },
  {
   "cell_type": "code",
   "execution_count": 126,
   "id": "f8ec4111",
   "metadata": {},
   "outputs": [],
   "source": [
    "#import data from 2012 through 2020\n",
    "national_M2012_path = \"../data/national_M2012_dl.xls\"\n",
    "national_M2013_path = \"../data/national_M2013_dl.xls\"\n",
    "national_M2014_path = \"../data/national_M2014_dl.xlsx\"\n",
    "national_M2015_path = \"../data/national_M2015_dl.xlsx\"\n",
    "national_M2016_path = \"../data/national_M2016_dl.xlsx\"\n",
    "national_M2017_path = \"../data/national_M2017_dl.xlsx\"\n",
    "national_M2018_path = \"../data/national_M2018_dl.xlsx\"\n",
    "national_M2019_path = \"../data/national_M2019_dl.xlsx\"\n",
    "national_M2020_path = \"../data/national_M2020_dl.xlsx\"\n",
    "\n",
    "# might need to pip install xlrd for reading xls files (old excel)\n",
    "national_M2012 = pd.read_excel(national_M2012_path,engine=None)\n",
    "national_M2013 = pd.read_excel(national_M2013_path,engine=None)\n",
    "national_M2014 = pd.read_excel(national_M2014_path, engine='openpyxl')\n",
    "national_M2015 = pd.read_excel(national_M2015_path, engine='openpyxl')\n",
    "national_M2016 = pd.read_excel(national_M2016_path, engine='openpyxl')\n",
    "national_M2017 = pd.read_excel(national_M2017_path, engine='openpyxl')\n",
    "national_M2018 = pd.read_excel(national_M2018_path, engine='openpyxl')\n",
    "national_M2019 = pd.read_excel(national_M2019_path, engine='openpyxl')\n",
    "national_M2020 = pd.read_excel(national_M2020_path, engine='openpyxl')\n",
    "\n",
    "# decode OCC CODE\n",
    "employee_title_path = \"../data/occ_code_reference.xlsx\"\n",
    "employee_title = pd.read_excel(employee_title_path, engine='openpyxl')"
   ]
  },
  {
   "cell_type": "code",
   "execution_count": 128,
   "id": "2a15587d",
   "metadata": {},
   "outputs": [],
   "source": [
    "national_M2019.columns = [x.upper() for x in national_M2019.columns]\n",
    "national_M2020.columns = [x.upper() for x in national_M2020.columns]"
   ]
  },
  {
   "cell_type": "code",
   "execution_count": 129,
   "id": "7af6cccd",
   "metadata": {},
   "outputs": [],
   "source": [
    "df_list = [national_M2012, national_M2013, national_M2014, national_M2015, national_M2016, \n",
    "           national_M2017, national_M2018, national_M2019, national_M2020]"
   ]
  },
  {
   "cell_type": "code",
   "execution_count": 131,
   "id": "8c4b0ddd",
   "metadata": {},
   "outputs": [],
   "source": [
    "import numpy as np\n",
    "def preprocess(df):\n",
    "    new_df = df[['OCC_CODE','TOT_EMP','H_MEAN','H_MEDIAN','A_MEAN','A_MEDIAN']]\n",
    "    new_df = new_df.replace(['*', '#', '**', '~'], np.NaN)  # drop non numberic rows\n",
    "    tmpDF = pd.DataFrame(columns=['OCC_CODE','SUB_CODE'])\n",
    "    tmpDF[['OCC_CODE','SUB_CODE']] = df['OCC_CODE'].str.split('-', expand=True)\n",
    "    new_df['OCC_CODE'] = tmpDF['OCC_CODE']\n",
    "    return new_df"
   ]
  },
  {
   "cell_type": "code",
   "execution_count": 132,
   "id": "6a45a9f5",
   "metadata": {},
   "outputs": [],
   "source": [
    "def aggByOCC(df, column_name):\n",
    "    new = df.groupby('OCC_CODE').agg({column_name: ['mean', 'min', 'max']})\n",
    "    return new"
   ]
  },
  {
   "cell_type": "code",
   "execution_count": 135,
   "id": "98a09815",
   "metadata": {},
   "outputs": [],
   "source": [
    "df_2012 = preprocess(national_M2012)\n",
    "df_2013 = preprocess(national_M2013)\n",
    "df_2014 = preprocess(national_M2014)\n",
    "df_2015 = preprocess(national_M2015)\n",
    "df_2016 = preprocess(national_M2016)\n",
    "df_2017 = preprocess(national_M2017)\n",
    "df_2018 = preprocess(national_M2018)\n",
    "df_2019 = preprocess(national_M2019)\n",
    "df_2020 = preprocess(national_M2020)"
   ]
  },
  {
   "cell_type": "code",
   "execution_count": 138,
   "id": "ca838357",
   "metadata": {},
   "outputs": [],
   "source": [
    "agg_2012_mean_wage = aggByOCC(df_2012, 'A_MEAN')\n",
    "agg_2013_mean_wage = aggByOCC(df_2013, 'A_MEAN')\n",
    "agg_2014_mean_wage = aggByOCC(df_2014, 'A_MEAN')\n",
    "agg_2015_mean_wage = aggByOCC(df_2015, 'A_MEAN')\n",
    "agg_2016_mean_wage = aggByOCC(df_2016, 'A_MEAN')\n",
    "agg_2017_mean_wage = aggByOCC(df_2017, 'A_MEAN')\n",
    "agg_2018_mean_wage = aggByOCC(df_2018, 'A_MEAN')\n",
    "agg_2019_mean_wage = aggByOCC(df_2019, 'A_MEAN')\n",
    "agg_2020_mean_wage = aggByOCC(df_2020, 'A_MEAN')"
   ]
  },
  {
   "cell_type": "code",
   "execution_count": 235,
   "id": "d360052c",
   "metadata": {},
   "outputs": [],
   "source": [
    "year_list = ['2012', '2013', '2014', '2015', '2016', '2017', '2018', '2019', '2020']\n",
    "agg_mean_wage_list = [agg_2012_mean_wage, agg_2013_mean_wage, agg_2014_mean_wage, agg_2015_mean_wage, \n",
    "                      agg_2016_mean_wage, agg_2017_mean_wage, agg_2018_mean_wage, agg_2019_mean_wage, \n",
    "                      agg_2020_mean_wage]"
   ]
  },
  {
   "cell_type": "code",
   "execution_count": 236,
   "id": "3337f8e5",
   "metadata": {},
   "outputs": [],
   "source": [
    "def agg_by_occupation(df_list, occ_code):\n",
    "    res_df = pd.DataFrame()\n",
    "    for i in range(len(year_list)):\n",
    "        selec_row = df_list[i].loc[occ_code].rename(year_list[i])\n",
    "        res_df = pd.concat([res_df, selec_row], axis = 1)\n",
    "    return res_df"
   ]
  },
  {
   "cell_type": "code",
   "execution_count": 240,
   "id": "0d7af6a7",
   "metadata": {},
   "outputs": [],
   "source": [
    "# get Computer and mathematical occupations (occ_code = 15) 9 years mean wage\n",
    "computer_mathematical = agg_by_occupation(agg_mean_wage_list, '15')\n",
    "computer_mathematical = computer_mathematical.loc['A_MEAN']"
   ]
  },
  {
   "cell_type": "code",
   "execution_count": 252,
   "id": "72850fea",
   "metadata": {
    "scrolled": true
   },
   "outputs": [
    {
     "data": {
      "image/png": "[encoded data removed]",
      "text/plain": [
       "<Figure size 936x360 with 1 Axes>"
      ]
     },
     "metadata": {
      "needs_background": "light"
     },
     "output_type": "display_data"
    }
   ],
   "source": [
    "plt.figure(figsize=(13,5))\n",
    "plt.plot(computer_mathematical.columns,computer_mathematical.loc['mean'])\n",
    "plt.title('Mean Annual Wages for Computer and Mathemetical Occupations from 2012-2020')\n",
    "plt.xlabel('Year')\n",
    "plt.ylabel('Annual Wages in US dollars')\n",
    "plt.show()"
   ]
  },
  {
   "cell_type": "code",
   "execution_count": null,
   "id": "b5415e81",
   "metadata": {},
   "outputs": [],
   "source": []
  }
 ],
 "metadata": {
  "kernelspec": {
   "display_name": "Python 3 (ipykernel)",
   "language": "python",
   "name": "python3"
  },
  "language_info": {
   "codemirror_mode": {
    "name": "ipython",
    "version": 3
   },
   "file_extension": ".py",
   "mimetype": "text/x-python",
   "name": "python",
   "nbconvert_exporter": "python",
   "pygments_lexer": "ipython3",
   "version": "3.9.5"
  }
 },
 "nbformat": 4,
 "nbformat_minor": 5
}
