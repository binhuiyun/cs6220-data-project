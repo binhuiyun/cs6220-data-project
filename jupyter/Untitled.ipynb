{
 "cells": [
  {
   "cell_type": "code",
   "execution_count": 35,
   "id": "eb8b993a",
   "metadata": {},
   "outputs": [],
   "source": [
    "from pandas import read_csv\n",
    "from time import time\n",
    "\n",
    "import pandas as pd\n",
    "\n",
    "from imblearn.under_sampling import RandomUnderSampler\n",
    "from joblib import dump\n",
    "import matplotlib.pyplot as plt\n",
    "from pandas import to_datetime\n",
    "from parse import parse\n",
    "from sklearn.ensemble import RandomForestRegressor, GradientBoostingRegressor, RandomForestClassifier\n",
    "from sklearn.linear_model import LinearRegression\n",
    "from sklearn.metrics import r2_score, mean_squared_error, mutual_info_score, make_scorer, mean_absolute_error\n",
    "from sklearn.model_selection import train_test_split, cross_val_score\n",
    "from sklearn.neighbors import KNeighborsRegressor"
   ]
  },
  {
   "cell_type": "code",
   "execution_count": 27,
   "id": "8397eae2",
   "metadata": {},
   "outputs": [],
   "source": [
    "dataframe = read_csv('../data/seven_feature_clean_.csv.gz', verbose=False)"
   ]
  },
  {
   "cell_type": "code",
   "execution_count": 28,
   "id": "ece6af4d",
   "metadata": {},
   "outputs": [
    {
     "data": {
      "text/html": [
       "<div>\n",
       "<style scoped>\n",
       "    .dataframe tbody tr th:only-of-type {\n",
       "        vertical-align: middle;\n",
       "    }\n",
       "\n",
       "    .dataframe tbody tr th {\n",
       "        vertical-align: top;\n",
       "    }\n",
       "\n",
       "    .dataframe thead th {\n",
       "        text-align: right;\n",
       "    }\n",
       "</style>\n",
       "<table border=\"1\" class=\"dataframe\">\n",
       "  <thead>\n",
       "    <tr style=\"text-align: right;\">\n",
       "      <th></th>\n",
       "      <th>Unnamed: 0</th>\n",
       "      <th>DayOfTheWeek</th>\n",
       "      <th>MinuteOfTheDay</th>\n",
       "      <th>Latitude</th>\n",
       "      <th>Longitude</th>\n",
       "      <th>ParkingSpaceCount</th>\n",
       "      <th>ParkingTimeLimitCategory</th>\n",
       "      <th>ParkingCategory</th>\n",
       "      <th>AvailableSpace</th>\n",
       "    </tr>\n",
       "  </thead>\n",
       "  <tbody>\n",
       "    <tr>\n",
       "      <th>0</th>\n",
       "      <td>28459351</td>\n",
       "      <td>1</td>\n",
       "      <td>43200</td>\n",
       "      <td>-122.330015</td>\n",
       "      <td>47.616454</td>\n",
       "      <td>7</td>\n",
       "      <td>240.0</td>\n",
       "      <td>1</td>\n",
       "      <td>0</td>\n",
       "    </tr>\n",
       "    <tr>\n",
       "      <th>1</th>\n",
       "      <td>22643110</td>\n",
       "      <td>1</td>\n",
       "      <td>43200</td>\n",
       "      <td>-122.321955</td>\n",
       "      <td>47.604256</td>\n",
       "      <td>9</td>\n",
       "      <td>120.0</td>\n",
       "      <td>2</td>\n",
       "      <td>8</td>\n",
       "    </tr>\n",
       "    <tr>\n",
       "      <th>2</th>\n",
       "      <td>26832891</td>\n",
       "      <td>1</td>\n",
       "      <td>43200</td>\n",
       "      <td>-122.330488</td>\n",
       "      <td>47.619229</td>\n",
       "      <td>10</td>\n",
       "      <td>120.0</td>\n",
       "      <td>1</td>\n",
       "      <td>4</td>\n",
       "    </tr>\n",
       "    <tr>\n",
       "      <th>3</th>\n",
       "      <td>27987115</td>\n",
       "      <td>1</td>\n",
       "      <td>43200</td>\n",
       "      <td>-122.323533</td>\n",
       "      <td>47.612504</td>\n",
       "      <td>8</td>\n",
       "      <td>120.0</td>\n",
       "      <td>2</td>\n",
       "      <td>8</td>\n",
       "    </tr>\n",
       "    <tr>\n",
       "      <th>4</th>\n",
       "      <td>28147181</td>\n",
       "      <td>1</td>\n",
       "      <td>43200</td>\n",
       "      <td>-122.323931</td>\n",
       "      <td>47.608905</td>\n",
       "      <td>4</td>\n",
       "      <td>120.0</td>\n",
       "      <td>1</td>\n",
       "      <td>0</td>\n",
       "    </tr>\n",
       "    <tr>\n",
       "      <th>5</th>\n",
       "      <td>26799619</td>\n",
       "      <td>1</td>\n",
       "      <td>43200</td>\n",
       "      <td>-122.334813</td>\n",
       "      <td>47.615226</td>\n",
       "      <td>9</td>\n",
       "      <td>240.0</td>\n",
       "      <td>1</td>\n",
       "      <td>2</td>\n",
       "    </tr>\n",
       "    <tr>\n",
       "      <th>6</th>\n",
       "      <td>25472274</td>\n",
       "      <td>1</td>\n",
       "      <td>43200</td>\n",
       "      <td>-122.327653</td>\n",
       "      <td>47.606263</td>\n",
       "      <td>7</td>\n",
       "      <td>120.0</td>\n",
       "      <td>1</td>\n",
       "      <td>5</td>\n",
       "    </tr>\n",
       "    <tr>\n",
       "      <th>7</th>\n",
       "      <td>28272417</td>\n",
       "      <td>1</td>\n",
       "      <td>43200</td>\n",
       "      <td>-122.339174</td>\n",
       "      <td>47.624465</td>\n",
       "      <td>2</td>\n",
       "      <td>120.0</td>\n",
       "      <td>1</td>\n",
       "      <td>2</td>\n",
       "    </tr>\n",
       "    <tr>\n",
       "      <th>8</th>\n",
       "      <td>23203452</td>\n",
       "      <td>1</td>\n",
       "      <td>43200</td>\n",
       "      <td>-122.326102</td>\n",
       "      <td>47.607900</td>\n",
       "      <td>11</td>\n",
       "      <td>120.0</td>\n",
       "      <td>2</td>\n",
       "      <td>9</td>\n",
       "    </tr>\n",
       "    <tr>\n",
       "      <th>9</th>\n",
       "      <td>28123646</td>\n",
       "      <td>1</td>\n",
       "      <td>43200</td>\n",
       "      <td>-122.336535</td>\n",
       "      <td>47.623136</td>\n",
       "      <td>4</td>\n",
       "      <td>120.0</td>\n",
       "      <td>1</td>\n",
       "      <td>4</td>\n",
       "    </tr>\n",
       "  </tbody>\n",
       "</table>\n",
       "</div>"
      ],
      "text/plain": [
       "   Unnamed: 0  DayOfTheWeek  MinuteOfTheDay    Latitude  Longitude  \\\n",
       "0    28459351             1           43200 -122.330015  47.616454   \n",
       "1    22643110             1           43200 -122.321955  47.604256   \n",
       "2    26832891             1           43200 -122.330488  47.619229   \n",
       "3    27987115             1           43200 -122.323533  47.612504   \n",
       "4    28147181             1           43200 -122.323931  47.608905   \n",
       "5    26799619             1           43200 -122.334813  47.615226   \n",
       "6    25472274             1           43200 -122.327653  47.606263   \n",
       "7    28272417             1           43200 -122.339174  47.624465   \n",
       "8    23203452             1           43200 -122.326102  47.607900   \n",
       "9    28123646             1           43200 -122.336535  47.623136   \n",
       "\n",
       "   ParkingSpaceCount  ParkingTimeLimitCategory  ParkingCategory  \\\n",
       "0                  7                     240.0                1   \n",
       "1                  9                     120.0                2   \n",
       "2                 10                     120.0                1   \n",
       "3                  8                     120.0                2   \n",
       "4                  4                     120.0                1   \n",
       "5                  9                     240.0                1   \n",
       "6                  7                     120.0                1   \n",
       "7                  2                     120.0                1   \n",
       "8                 11                     120.0                2   \n",
       "9                  4                     120.0                1   \n",
       "\n",
       "   AvailableSpace  \n",
       "0               0  \n",
       "1               8  \n",
       "2               4  \n",
       "3               8  \n",
       "4               0  \n",
       "5               2  \n",
       "6               5  \n",
       "7               2  \n",
       "8               9  \n",
       "9               4  "
      ]
     },
     "execution_count": 28,
     "metadata": {},
     "output_type": "execute_result"
    }
   ],
   "source": [
    "dataframe.head(10)"
   ]
  },
  {
   "cell_type": "code",
   "execution_count": 53,
   "id": "4ad10af5",
   "metadata": {},
   "outputs": [
    {
     "name": "stdout",
     "output_type": "stream",
     "text": [
      "         Unnamed: 0  DayOfTheWeek  MinuteOfTheDay    Latitude  Longitude  \\\n",
      "0          28459351             1           43200 -122.330015  47.616454   \n",
      "1          22643110             1           43200 -122.321955  47.604256   \n",
      "2          26832891             1           43200 -122.330488  47.619229   \n",
      "3          27987115             1           43200 -122.323533  47.612504   \n",
      "4          28147181             1           43200 -122.323931  47.608905   \n",
      "...             ...           ...             ...         ...        ...   \n",
      "8910933    19648437             2           79140 -122.325646  47.615801   \n",
      "8910934    26993283             2           79140 -122.320969  47.619324   \n",
      "8910935     1662253             2           79140 -122.324585  47.615804   \n",
      "8910936     5239421             2           79140 -122.320363  47.621941   \n",
      "8910937    26593552             2           79140 -122.318060  47.615862   \n",
      "\n",
      "         ParkingSpaceCount  ParkingTimeLimitCategory  ParkingCategory  \\\n",
      "0                        7                     240.0                1   \n",
      "1                        9                     120.0                2   \n",
      "2                       10                     120.0                1   \n",
      "3                        8                     120.0                2   \n",
      "4                        4                     120.0                1   \n",
      "...                    ...                       ...              ...   \n",
      "8910933                  6                     120.0                2   \n",
      "8910934                  9                     120.0                1   \n",
      "8910935                  8                     120.0                2   \n",
      "8910936                  4                     120.0                1   \n",
      "8910937                  5                     240.0                1   \n",
      "\n",
      "         AvailableSpace  \n",
      "0                     0  \n",
      "1                     8  \n",
      "2                     4  \n",
      "3                     8  \n",
      "4                     0  \n",
      "...                 ...  \n",
      "8910933               6  \n",
      "8910934               3  \n",
      "8910935               7  \n",
      "8910936               4  \n",
      "8910937               0  \n",
      "\n",
      "[8910938 rows x 9 columns]\n"
     ]
    }
   ],
   "source": [
    "print(dataframe)"
   ]
  },
  {
   "cell_type": "code",
   "execution_count": 42,
   "id": "dcaa16c0",
   "metadata": {},
   "outputs": [],
   "source": [
    "def evaluate_accuracy(model, x_train, y_train, x_test, y_test):\n",
    "    prediction = model.predict(x_test)\n",
    "    r_square_score = r2_score(y_test, prediction)\n",
    "    print('{0} R-Squared: {1}'.format(model.__class__.__name__, r_square_score))\n",
    "    print('MAE CV:', cross_val_score(model, x_train, y_train, cv=4, scoring=make_scorer(mean_absolute_error)))\n",
    "    print('MSE CV:', cross_val_score(model, x_train, y_train, cv=4, scoring=make_scorer(mean_squared_error)))\n",
    "    \n",
    "    return r_square_score\n",
    "\n",
    "\n",
    "def gradient_boosting_regression(x_train, x_test, y_train, y_test):\n",
    "    model = GradientBoostingRegressor(max_depth=16)\n",
    "    model.fit(x_train, y_train)\n",
    "    print('feature importance:', model.feature_importances_)\n",
    "    feat_importances = pd.Series(model.feature_importances_, index=x_train.columns)\n",
    "    feat_importances.plot(kind='barh', figsize=(10, 5))\n",
    "\n",
    "    r_square_score = evaluate_accuracy(model, x_train, y_train, x_test, y_test)\n",
    "#     dump(model, str(r_square_score) + '_out_' + TARGET_AREA.replace(' ', '_') + '_gradient_boosting.joblib')\n",
    "\n",
    "\n",
    "def random_forest_regression(x_train, x_test, y_train, y_test):\n",
    "    model = RandomForestRegressor(max_depth=20, n_jobs=-1)\n",
    "    model.fit(x_train, y_train)\n",
    "    print('feature importance:', model.feature_importances_)\n",
    "    feat_importances = pd.Series(model.feature_importances_, index=x_train.columns)\n",
    "    feat_importances.plot(kind='barh', figsize=(10, 5))\n",
    "\n",
    "    r_square_score = evaluate_accuracy(model, x_train, y_train, x_test, y_test)\n",
    "#     dump(model, str(r_square_score) + '_out_' + TARGET_AREA.replace(' ', '_') + '_random_forest.joblib')\n",
    "\n",
    "\n",
    "def k_neighbors_regression(x_train, x_test, y_train, y_test):\n",
    "    model = KNeighborsRegressor(n_neighbors=16)\n",
    "    model.fit(x_train, y_train)\n",
    "\n",
    "    r_square_score = evaluate_accuracy(model, x_train, y_train, x_test, y_test)\n",
    "#     dump(model, str(r_square_score) + '_out_' + TARGET_AREA.replace(' ', '_') + '_k_neighbors.joblib')\n",
    "\n",
    "\n",
    "def linear_regression(x_train, x_test, y_train, y_test):\n",
    "    model = LinearRegression()\n",
    "    model.fit(x_train, y_train)\n",
    "\n",
    "    r_square_score = evaluate_accuracy(model, x_train, y_train, x_test, y_test)\n",
    "#     dump(model, str(r_square_score) + '_out_' + TARGET_AREA.replace(' ', '_') + '_linear.joblib')"
   ]
  },
  {
   "cell_type": "code",
   "execution_count": 51,
   "id": "08e2762c",
   "metadata": {},
   "outputs": [
    {
     "name": "stdout",
     "output_type": "stream",
     "text": [
      "     DayOfTheWeek  MinuteOfTheDay    Latitude  Longitude  ParkingCategory\n",
      "0               4           43020 -122.329559  47.617717                1\n",
      "1               1           68220 -122.325839  47.608554                1\n",
      "2               4           34440 -122.329386  47.628236                1\n",
      "3               2           46200 -122.333119  47.616531                1\n",
      "4               4           48060 -122.338383  47.616024                1\n",
      "..            ...             ...         ...        ...              ...\n",
      "155             2           28800 -122.318297  47.616969                1\n",
      "156             5           28800 -122.318297  47.616969                1\n",
      "157             5           28860 -122.318297  47.616969                1\n",
      "158             3           28800 -122.318297  47.616969                1\n",
      "159             1           28800 -122.318297  47.616969                1\n",
      "\n",
      "[160 rows x 5 columns]\n"
     ]
    },
    {
     "data": {
      "text/plain": [
       "<Figure size 720x360 with 0 Axes>"
      ]
     },
     "execution_count": 51,
     "metadata": {},
     "output_type": "execute_result"
    },
    {
     "data": {
      "text/plain": [
       "<Figure size 720x360 with 0 Axes>"
      ]
     },
     "metadata": {},
     "output_type": "display_data"
    }
   ],
   "source": [
    "x_features = ['DayOfTheWeek', 'MinuteOfTheDay', 'Latitude', 'Longitude', 'ParkingSpaceCount', 'ParkingTimeLimitCategory', 'ParkingCategory']\n",
    "y_feature = 'AvailableSpace'\n",
    "\n",
    "# prepare training dataset\n",
    "x, y = dataframe[x_features], dataframe[y_feature]\n",
    "\n",
    "# under-sampling\n",
    "random_under_sampler = RandomUnderSampler()\n",
    "x, y = random_under_sampler.fit_resample(x, y)\n",
    "\n",
    "print(x)\n",
    "\n",
    "# split data\n",
    "x_train, x_test, y_train, y_test = train_test_split(x, y, test_size=0.33)\n",
    "\n",
    "# execute model training\n",
    "# for function in [linear_regression, k_neighbors_regression, random_forest_regression, gradient_boosting_regression]:\n",
    "#     function(x_train, x_test, y_train, y_test)\n",
    "\n",
    "\n",
    "plt.figure(figsize=(10,5))\n"
   ]
  },
  {
   "cell_type": "code",
   "execution_count": 52,
   "id": "b2d4d446",
   "metadata": {},
   "outputs": [
    {
     "name": "stdout",
     "output_type": "stream",
     "text": [
      "feature importance: [0.04724965 0.20243305 0.40832718 0.29709189 0.04489822]\n",
      "RandomForestRegressor R-Squared: 0.8185623747268755\n",
      "MAE CV: [4.77333333 5.92037037 4.50925926 4.255     ]\n",
      "MSE CV: [35.58323333 55.54085185 41.91365926 33.52988077]\n"
     ]
    },
    {
     "data": {
      "image/png": "[encoded data removed]",
      "text/plain": [
       "<Figure size 720x360 with 1 Axes>"
      ]
     },
     "metadata": {
      "needs_background": "light"
     },
     "output_type": "display_data"
    }
   ],
   "source": [
    "random_forest_regression(x_train, x_test, y_train, y_test)"
   ]
  },
  {
   "cell_type": "code",
   "execution_count": 47,
   "id": "37b44716",
   "metadata": {},
   "outputs": [
    {
     "name": "stdout",
     "output_type": "stream",
     "text": [
      "feature importance: [0.00755679 0.04766897 0.01944516 0.03532521 0.87252636 0.01551142\n",
      " 0.00196609]\n",
      "GradientBoostingRegressor R-Squared: 0.8177939933628982\n",
      "MAE CV: [1.85434477 2.4463088  2.49884292 2.60551595]\n",
      "MSE CV: [ 7.91390524 13.7654261  18.28104895  9.92063529]\n"
     ]
    },
    {
     "data": {
      "image/png": "[encoded data removed]",
      "text/plain": [
       "<Figure size 720x360 with 1 Axes>"
      ]
     },
     "metadata": {
      "needs_background": "light"
     },
     "output_type": "display_data"
    }
   ],
   "source": [
    "gradient_boosting_regression(x_train, x_test, y_train, y_test)"
   ]
  },
  {
   "cell_type": "code",
   "execution_count": 4,
   "id": "0c161a0e",
   "metadata": {
    "scrolled": true
   },
   "outputs": [
    {
     "data": {
      "text/html": [
       "<div>\n",
       "<style scoped>\n",
       "    .dataframe tbody tr th:only-of-type {\n",
       "        vertical-align: middle;\n",
       "    }\n",
       "\n",
       "    .dataframe tbody tr th {\n",
       "        vertical-align: top;\n",
       "    }\n",
       "\n",
       "    .dataframe thead th {\n",
       "        text-align: right;\n",
       "    }\n",
       "</style>\n",
       "<table border=\"1\" class=\"dataframe\">\n",
       "  <thead>\n",
       "    <tr style=\"text-align: right;\">\n",
       "      <th></th>\n",
       "      <th>Unnamed: 0</th>\n",
       "      <th>DayOfTheWeek</th>\n",
       "      <th>MinuteOfTheDay</th>\n",
       "      <th>Latitude</th>\n",
       "      <th>Longitude</th>\n",
       "      <th>ParkingSpaceCount</th>\n",
       "      <th>ParkingTimeLimitCategory</th>\n",
       "      <th>ParkingCategory</th>\n",
       "      <th>AvailableSpace</th>\n",
       "    </tr>\n",
       "  </thead>\n",
       "  <tbody>\n",
       "    <tr>\n",
       "      <th>0</th>\n",
       "      <td>28459351</td>\n",
       "      <td>1</td>\n",
       "      <td>43200</td>\n",
       "      <td>-122.330015</td>\n",
       "      <td>47.616454</td>\n",
       "      <td>7</td>\n",
       "      <td>240.0</td>\n",
       "      <td>1</td>\n",
       "      <td>0</td>\n",
       "    </tr>\n",
       "    <tr>\n",
       "      <th>1</th>\n",
       "      <td>22643110</td>\n",
       "      <td>1</td>\n",
       "      <td>43200</td>\n",
       "      <td>-122.321955</td>\n",
       "      <td>47.604256</td>\n",
       "      <td>9</td>\n",
       "      <td>120.0</td>\n",
       "      <td>2</td>\n",
       "      <td>8</td>\n",
       "    </tr>\n",
       "    <tr>\n",
       "      <th>2</th>\n",
       "      <td>26832891</td>\n",
       "      <td>1</td>\n",
       "      <td>43200</td>\n",
       "      <td>-122.330488</td>\n",
       "      <td>47.619229</td>\n",
       "      <td>10</td>\n",
       "      <td>120.0</td>\n",
       "      <td>1</td>\n",
       "      <td>4</td>\n",
       "    </tr>\n",
       "    <tr>\n",
       "      <th>3</th>\n",
       "      <td>27987115</td>\n",
       "      <td>1</td>\n",
       "      <td>43200</td>\n",
       "      <td>-122.323533</td>\n",
       "      <td>47.612504</td>\n",
       "      <td>8</td>\n",
       "      <td>120.0</td>\n",
       "      <td>2</td>\n",
       "      <td>8</td>\n",
       "    </tr>\n",
       "    <tr>\n",
       "      <th>4</th>\n",
       "      <td>28147181</td>\n",
       "      <td>1</td>\n",
       "      <td>43200</td>\n",
       "      <td>-122.323931</td>\n",
       "      <td>47.608905</td>\n",
       "      <td>4</td>\n",
       "      <td>120.0</td>\n",
       "      <td>1</td>\n",
       "      <td>0</td>\n",
       "    </tr>\n",
       "  </tbody>\n",
       "</table>\n",
       "</div>"
      ],
      "text/plain": [
       "   Unnamed: 0  DayOfTheWeek  MinuteOfTheDay    Latitude  Longitude  \\\n",
       "0    28459351             1           43200 -122.330015  47.616454   \n",
       "1    22643110             1           43200 -122.321955  47.604256   \n",
       "2    26832891             1           43200 -122.330488  47.619229   \n",
       "3    27987115             1           43200 -122.323533  47.612504   \n",
       "4    28147181             1           43200 -122.323931  47.608905   \n",
       "\n",
       "   ParkingSpaceCount  ParkingTimeLimitCategory  ParkingCategory  \\\n",
       "0                  7                     240.0                1   \n",
       "1                  9                     120.0                2   \n",
       "2                 10                     120.0                1   \n",
       "3                  8                     120.0                2   \n",
       "4                  4                     120.0                1   \n",
       "\n",
       "   AvailableSpace  \n",
       "0               0  \n",
       "1               8  \n",
       "2               4  \n",
       "3               8  \n",
       "4               0  "
      ]
     },
     "execution_count": 4,
     "metadata": {},
     "output_type": "execute_result"
    }
   ],
   "source": [
    "df.head()"
   ]
  },
  {
   "cell_type": "code",
   "execution_count": 30,
   "id": "e939b42a",
   "metadata": {
    "scrolled": true
   },
   "outputs": [
    {
     "ename": "AttributeError",
     "evalue": "'DataFrame' object has no attribute 'feature_importance_'",
     "output_type": "error",
     "traceback": [
      "\u001b[0;31m---------------------------------------------------------------------------\u001b[0m",
      "\u001b[0;31mAttributeError\u001b[0m                            Traceback (most recent call last)",
      "Input \u001b[0;32mIn [30]\u001b[0m, in \u001b[0;36m<cell line: 1>\u001b[0;34m()\u001b[0m\n\u001b[0;32m----> 1\u001b[0m \u001b[43mdf\u001b[49m\u001b[38;5;241;43m.\u001b[39;49m\u001b[43mfeature_importance_\u001b[49m\n",
      "File \u001b[0;32m~/.pyenv/versions/3.10.3/lib/python3.10/site-packages/pandas/core/generic.py:5575\u001b[0m, in \u001b[0;36mNDFrame.__getattr__\u001b[0;34m(self, name)\u001b[0m\n\u001b[1;32m   5568\u001b[0m \u001b[38;5;28;01mif\u001b[39;00m (\n\u001b[1;32m   5569\u001b[0m     name \u001b[38;5;129;01mnot\u001b[39;00m \u001b[38;5;129;01min\u001b[39;00m \u001b[38;5;28mself\u001b[39m\u001b[38;5;241m.\u001b[39m_internal_names_set\n\u001b[1;32m   5570\u001b[0m     \u001b[38;5;129;01mand\u001b[39;00m name \u001b[38;5;129;01mnot\u001b[39;00m \u001b[38;5;129;01min\u001b[39;00m \u001b[38;5;28mself\u001b[39m\u001b[38;5;241m.\u001b[39m_metadata\n\u001b[1;32m   5571\u001b[0m     \u001b[38;5;129;01mand\u001b[39;00m name \u001b[38;5;129;01mnot\u001b[39;00m \u001b[38;5;129;01min\u001b[39;00m \u001b[38;5;28mself\u001b[39m\u001b[38;5;241m.\u001b[39m_accessors\n\u001b[1;32m   5572\u001b[0m     \u001b[38;5;129;01mand\u001b[39;00m \u001b[38;5;28mself\u001b[39m\u001b[38;5;241m.\u001b[39m_info_axis\u001b[38;5;241m.\u001b[39m_can_hold_identifiers_and_holds_name(name)\n\u001b[1;32m   5573\u001b[0m ):\n\u001b[1;32m   5574\u001b[0m     \u001b[38;5;28;01mreturn\u001b[39;00m \u001b[38;5;28mself\u001b[39m[name]\n\u001b[0;32m-> 5575\u001b[0m \u001b[38;5;28;01mreturn\u001b[39;00m \u001b[38;5;28;43mobject\u001b[39;49m\u001b[38;5;241;43m.\u001b[39;49m\u001b[38;5;21;43m__getattribute__\u001b[39;49m\u001b[43m(\u001b[49m\u001b[38;5;28;43mself\u001b[39;49m\u001b[43m,\u001b[49m\u001b[43m \u001b[49m\u001b[43mname\u001b[49m\u001b[43m)\u001b[49m\n",
      "\u001b[0;31mAttributeError\u001b[0m: 'DataFrame' object has no attribute 'feature_importance_'"
     ]
    }
   ],
   "source": [
    "df.feature_importance_"
   ]
  },
  {
   "cell_type": "code",
   "execution_count": 15,
   "id": "b353cfa1",
   "metadata": {},
   "outputs": [],
   "source": [
    "import matplotlib.pyplot as plt\n",
    "import seaborn as sns"
   ]
  },
  {
   "cell_type": "code",
   "execution_count": 29,
   "id": "dfb9022e",
   "metadata": {},
   "outputs": [
    {
     "data": {
      "image/png": "[encoded data removed]",
      "text/plain": [
       "<Figure size 1440x720 with 1 Axes>"
      ]
     },
     "metadata": {
      "needs_background": "light"
     },
     "output_type": "display_data"
    }
   ],
   "source": [
    "plt.figure(figsize=(20,10))\n",
    "sns.scatterplot(data=df, x=\"DateTimeHour\", y=\"AvailableSpaceCount\")\n",
    "plt.show()\n",
    "# df.plot.scatter(x='TimeStr', y='AvailableSpaceCount', c='DarkBlue')"
   ]
  },
  {
   "cell_type": "code",
   "execution_count": 27,
   "id": "22c4363f",
   "metadata": {
    "scrolled": false
   },
   "outputs": [
    {
     "data": {
      "image/png": "[encoded data removed]",
      "text/plain": [
       "<Figure size 1440x720 with 1 Axes>"
      ]
     },
     "metadata": {
      "needs_background": "light"
     },
     "output_type": "display_data"
    }
   ],
   "source": [
    "plt.figure(figsize=(20,10))\n",
    "# plt.ylim(0,600)\n",
    "sns.boxplot(x='DateTimeHour', y='AvailableSpaceCount', data=df)\n",
    "plt.show()\n"
   ]
  },
  {
   "cell_type": "code",
   "execution_count": 28,
   "id": "bcbb20e9",
   "metadata": {
    "scrolled": false
   },
   "outputs": [
    {
     "data": {
      "image/png": "[encoded data removed]",
      "text/plain": [
       "<Figure size 1440x720 with 1 Axes>"
      ]
     },
     "metadata": {
      "needs_background": "light"
     },
     "output_type": "display_data"
    }
   ],
   "source": [
    "plt.figure(figsize=(20,10))\n",
    "# plt.ylim(0,600)\n",
    "sns.boxplot(x='AvailableSpaceCount', y='DateTimeHour', data=df)\n",
    "plt.show()"
   ]
  }
 ],
 "metadata": {
  "kernelspec": {
   "display_name": "Python 3 (ipykernel)",
   "language": "python",
   "name": "python3"
  },
  "language_info": {
   "codemirror_mode": {
    "name": "ipython",
    "version": 3
   },
   "file_extension": ".py",
   "mimetype": "text/x-python",
   "name": "python",
   "nbconvert_exporter": "python",
   "pygments_lexer": "ipython3",
   "version": "3.10.3"
  }
 },
 "nbformat": 4,
 "nbformat_minor": 5
}
