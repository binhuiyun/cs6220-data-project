{
 "cells": [
  {
   "cell_type": "code",
   "execution_count": 26,
   "id": "deeea068",
   "metadata": {},
   "outputs": [],
   "source": [
    "import pandas as pd\n",
    "import glob\n",
    "import collections\n",
    "import numpy as np"
   ]
  },
  {
   "cell_type": "code",
   "execution_count": 20,
   "id": "450f89de",
   "metadata": {},
   "outputs": [],
   "source": [
    "files = glob.glob(\"../data/states/*.xlsx\")\n",
    "\n",
    "frames = {}\n",
    "\n",
    "for f in files:\n",
    "    key = f[-12:-8]\n",
    "    frames[key] = pd.read_excel(f, engine='openpyxl', \n",
    "                             usecols=\"B,C,F,J,K,O,T\")"
   ]
  },
  {
   "cell_type": "code",
   "execution_count": 25,
   "id": "66c58670",
   "metadata": {},
   "outputs": [],
   "source": [
    "# sort frames by ascending order\n",
    "frames = collections.OrderedDict(sorted(frames.items()))"
   ]
  },
  {
   "cell_type": "code",
   "execution_count": 27,
   "id": "75be0588",
   "metadata": {},
   "outputs": [],
   "source": [
    "def preprocess(df):\n",
    "    df = df.replace(['*', '#', '**', '~'], np.NaN)  # drop non numberic rows\n",
    "    tmpDF = pd.DataFrame(columns=['OCC_CODE','SUB_CODE'])\n",
    "    tmpDF[['OCC_CODE','SUB_CODE']] = df['OCC_CODE'].str.split('-', expand=True)\n",
    "    df['OCC_CODE'] = tmpDF['OCC_CODE']\n",
    "    return df\n",
    "\n",
    "for key, value in frames.items():\n",
    "    frames[key] = preprocess(value)"
   ]
  },
  {
   "cell_type": "code",
   "execution_count": null,
   "id": "cbcb740f",
   "metadata": {},
   "outputs": [],
   "source": [
    "# aggregate by the same occ_code\n",
    "def aggByOCC(df, column_name):\n",
    "    new = df.groupby('OCC_CODE').agg({column_name: ['mean', 'min', 'max']})\n",
    "    return new\n",
    "\n",
    "# aggregate by mean annual wage \n",
    "agg_a_mean = {}\n",
    "\n",
    "# aggregate by mean hourly wage \n",
    "agg_h_mean = {}\n",
    "\n",
    "# aggregate by median annual wage \n",
    "agg_a_median = {}\n",
    "\n",
    "# aggregate by median hourly wage \n",
    "agg_h_median = {}\n",
    "\n",
    "for key, value in frames.items():\n",
    "    agg_a_mean[key] = aggByOCC(value,'A_MEAN')\n",
    "    agg_h_mean[key] = aggByOCC(value,'H_MEAN')\n",
    "    agg_a_median[key] = aggByOCC(value,'A_MEDIAN')\n",
    "    agg_h_median[key] = aggByOCC(value,'A_MEDIAN')"
   ]
  }
 ],
 "metadata": {
  "kernelspec": {
   "display_name": "Python 3 (ipykernel)",
   "language": "python",
   "name": "python3"
  },
  "language_info": {
   "codemirror_mode": {
    "name": "ipython",
    "version": 3
   },
   "file_extension": ".py",
   "mimetype": "text/x-python",
   "name": "python",
   "nbconvert_exporter": "python",
   "pygments_lexer": "ipython3",
   "version": "3.9.5"
  }
 },
 "nbformat": 4,
 "nbformat_minor": 5
}
