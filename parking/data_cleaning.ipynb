{
 "cells": [
  {
   "cell_type": "code",
   "execution_count": 2,
   "metadata": {},
   "outputs": [],
   "source": [
    "import pandas as pd\n",
    "import numpy as np"
   ]
  },
  {
   "cell_type": "code",
   "execution_count": 3,
   "metadata": {},
   "outputs": [],
   "source": [
    "slu = pd.read_csv('data/slu-Paid_Parking_Occupancy__Last_30_Days_.csv')\n",
    "# parking rate only contains null\n",
    "slu = slu.drop(['PaidParkingRate'], axis = 1)"
   ]
  },
  {
   "cell_type": "markdown",
   "metadata": {},
   "source": [
    "Add availability information\n",
    "\n",
    "1. Calculate occupancy percentage: The date and time (minute) of the transaction as recorded\n",
    "2. Aavailability (bool) : True if has available parking spaces. \n",
    "3. Available parking spaces (int): Number of availabel parking spaces. 0 if paid spaces are equal or more than the parking space count. A car might leave before the parking expire, thus paird occupancy could be higher than the parking space count. "
   ]
  },
  {
   "cell_type": "code",
   "execution_count": 4,
   "metadata": {},
   "outputs": [],
   "source": [
    "slu['OccupancyPercentage'] = slu['PaidOccupancy']/slu['ParkingSpaceCount']\n",
    "slu['HasAvailability'] = slu.OccupancyPercentage < 1\n",
    "slu['AvailableSpace'] = np.where(slu['ParkingSpaceCount'] - slu['PaidOccupancy'] > 0, slu['ParkingSpaceCount'] - slu['PaidOccupancy'], 0)"
   ]
  },
  {
   "cell_type": "markdown",
   "metadata": {},
   "source": [
    "compute latitude and longitude"
   ]
  },
  {
   "cell_type": "code",
   "execution_count": 5,
   "metadata": {},
   "outputs": [],
   "source": [
    "location = slu.Location.str[7:-1]\n",
    "slu.Location.str.split(' ',expand=True)\n",
    "slu[['Latitude','Longitude']]=location.str.split(' ',expand=True)\n",
    "slu['Latitude'] = pd.to_numeric(slu['Latitude'])\n",
    "slu['Longitude'] = pd.to_numeric(slu['Longitude'])"
   ]
  },
  {
   "cell_type": "markdown",
   "metadata": {},
   "source": [
    "Compute datetime information. \n",
    "\n",
    "1. Convert a string of time into a datetime object\n",
    "2. Check wheter a given date is a US holiday\n",
    "3. Compute day of the week, hour of the day and minute of the day\n",
    "5. sort by datetime"
   ]
  },
  {
   "cell_type": "code",
   "execution_count": 6,
   "metadata": {},
   "outputs": [],
   "source": [
    "from pandas.tseries.holiday import USFederalHolidayCalendar as calendar\n",
    "import time\n",
    "slu['OccupancyDateTime'] = pd.to_datetime(slu['OccupancyDateTime'],infer_datetime_format=True)\n",
    "cal = calendar()\n",
    "\n",
    "dr = pd.date_range(start=slu['OccupancyDateTime'].min(), end=slu['OccupancyDateTime'].max())\n",
    "holidays = cal.holidays(start=dr.min(), end=dr.max())\n",
    "slu['Holiday'] = slu['OccupancyDateTime'].isin(holidays)\n",
    "\n",
    "slu['DayOfTheWeek'] = slu['OccupancyDateTime'].dt.day_of_week\n",
    "slu['Year'] = slu['OccupancyDateTime'].dt.year\n",
    "slu['Month'] = slu['OccupancyDateTime'].dt.month\n",
    "slu['Day'] = slu['OccupancyDateTime'].dt.day\n",
    "slu['Hour'] = slu['OccupancyDateTime'].dt.hour\n",
    "slu['Minute'] = slu['OccupancyDateTime'].dt.minute\n",
    "slu['Second'] = slu['OccupancyDateTime'].dt.second\n",
    "slu['MinuteOfTheDay'] = slu['Hour'] * 60 * 60 + slu['Minute']  * 60"
   ]
  },
  {
   "cell_type": "code",
   "execution_count": 7,
   "metadata": {},
   "outputs": [],
   "source": [
    "slu = slu.sort_values(by=['OccupancyDateTime'])"
   ]
  },
  {
   "cell_type": "code",
   "execution_count": 8,
   "metadata": {},
   "outputs": [],
   "source": [
    "# slu.to_csv('data/clean_data.csv', sep=',')"
   ]
  },
  {
   "cell_type": "code",
   "execution_count": 6,
   "metadata": {},
   "outputs": [
    {
     "data": {
      "text/plain": [
       "Index(['OccupancyDateTime', 'PaidOccupancy', 'BlockfaceName', 'SideOfStreet',\n",
       "       'SourceElementKey', 'ParkingTimeLimitCategory', 'ParkingSpaceCount',\n",
       "       'PaidParkingArea', 'PaidParkingSubArea', 'ParkingCategory', 'Location',\n",
       "       'OccupancyPercentage', 'HasAvailability', 'AvailableSpace', 'Latitude',\n",
       "       'Longitude'],\n",
       "      dtype='object')"
      ]
     },
     "execution_count": 6,
     "metadata": {},
     "output_type": "execute_result"
    }
   ],
   "source": [
    "slu.columns"
   ]
  },
  {
   "cell_type": "code",
   "execution_count": 12,
   "metadata": {},
   "outputs": [],
   "source": [
    "loc_df = slu[['Latitude','Longitude', 'BlockfaceName', 'SourceElementKey','SideOfStreet']]\n",
    "loc_df = loc_df.drop_duplicates(subset=['SourceElementKey'], keep='first')\n",
    "loc_df = loc_df.set_index('SourceElementKey')"
   ]
  },
  {
   "cell_type": "code",
   "execution_count": 30,
   "metadata": {},
   "outputs": [],
   "source": [
    "# loc_df.to_csv('data/paystub_location.csv')"
   ]
  }
 ],
 "metadata": {
  "interpreter": {
   "hash": "11462bf531a3597ff39310b0b72f96213688d56a408fada7b8e47d67eac450bd"
  },
  "kernelspec": {
   "display_name": "Python 3.9.12 ('base')",
   "language": "python",
   "name": "python3"
  },
  "language_info": {
   "codemirror_mode": {
    "name": "ipython",
    "version": 3
   },
   "file_extension": ".py",
   "mimetype": "text/x-python",
   "name": "python",
   "nbconvert_exporter": "python",
   "pygments_lexer": "ipython3",
   "version": "3.9.7"
  },
  "orig_nbformat": 4
 },
 "nbformat": 4,
 "nbformat_minor": 2
}
