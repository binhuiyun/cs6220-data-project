{
 "cells": [
  {
   "cell_type": "code",
   "execution_count": 1,
   "metadata": {},
   "outputs": [],
   "source": [
    "import pandas as pd"
   ]
  },
  {
   "cell_type": "code",
   "execution_count": 2,
   "metadata": {},
   "outputs": [],
   "source": [
    "slu = pd.read_csv('data/slu-Paid_Parking_Occupancy__Last_30_Days_.csv')\n",
    "# parking rate only contains null\n",
    "slu = slu.drop(['PaidParkingRate'], axis = 1)"
   ]
  },
  {
   "cell_type": "markdown",
   "metadata": {},
   "source": [
    "add availability information"
   ]
  },
  {
   "cell_type": "code",
   "execution_count": 3,
   "metadata": {},
   "outputs": [],
   "source": [
    "slu['OccupancyPercentage'] = slu['PaidOccupancy']/slu['ParkingSpaceCount']\n",
    "slu['HasAvailability'] = slu.OccupancyPercentage < 1\n",
    "slu['AvailableSpace'] = slu['ParkingSpaceCount'] - slu['PaidOccupancy']"
   ]
  },
  {
   "cell_type": "markdown",
   "metadata": {},
   "source": [
    "compute latitude and longitude"
   ]
  },
  {
   "cell_type": "code",
   "execution_count": 5,
   "metadata": {},
   "outputs": [],
   "source": [
    "location = slu.Location.str[7:-1]\n",
    "slu.Location.str.split(' ',expand=True)\n",
    "slu[['Latitude','Longitude']]=location.str.split(' ',expand=True)\n",
    "slu['Latitude'] = pd.to_numeric(slu['Latitude'])\n",
    "slu['Longitude'] = pd.to_numeric(slu['Longitude'])"
   ]
  },
  {
   "cell_type": "markdown",
   "metadata": {},
   "source": [
    "Compute datetime information. \n",
    "\n",
    "1. Convert a string of time into a datetime object\n",
    "2. Check wheter a given date is a US holiday\n",
    "3. Compute day of the week, hour of the day and minute of the day\n",
    "5. sort by datetime"
   ]
  },
  {
   "cell_type": "code",
   "execution_count": 6,
   "metadata": {},
   "outputs": [],
   "source": [
    "from pandas.tseries.holiday import USFederalHolidayCalendar as calendar\n",
    "import time\n",
    "slu['OccupancyDateTime'] = pd.to_datetime(slu['OccupancyDateTime'],infer_datetime_format=True)\n",
    "cal = calendar()\n",
    "\n",
    "dr = pd.date_range(start=slu['OccupancyDateTime'].min(), end=slu['OccupancyDateTime'].max())\n",
    "holidays = cal.holidays(start=dr.min(), end=dr.max())\n",
    "slu['Holiday'] = slu['OccupancyDateTime'].isin(holidays)\n",
    "\n",
    "slu['DayOfTheWeek'] = slu['OccupancyDateTime'].dt.day_of_week\n",
    "slu['Year'] = slu['OccupancyDateTime'].dt.year\n",
    "slu['Month'] = slu['OccupancyDateTime'].dt.month\n",
    "slu['Day'] = slu['OccupancyDateTime'].dt.day\n",
    "slu['Hour'] = slu['OccupancyDateTime'].dt.hour\n",
    "slu['Minute'] = slu['OccupancyDateTime'].dt.minute\n",
    "slu['Second'] = slu['OccupancyDateTime'].dt.second\n",
    "slu['MinuteOfTheDay'] = slu['Hour'] * 60 * 60 + slu['Minute']  * 60"
   ]
  },
  {
   "cell_type": "code",
   "execution_count": 7,
   "metadata": {},
   "outputs": [],
   "source": [
    "slu = slu.sort_values(by=['OccupancyDateTime'])"
   ]
  },
  {
   "cell_type": "code",
   "execution_count": 8,
   "metadata": {},
   "outputs": [],
   "source": [
    "# slu.to_csv('data/clean_data.csv', sep=',')"
   ]
  }
 ],
 "metadata": {
  "interpreter": {
   "hash": "11462bf531a3597ff39310b0b72f96213688d56a408fada7b8e47d67eac450bd"
  },
  "kernelspec": {
   "display_name": "Python 3.9.12 ('base')",
   "language": "python",
   "name": "python3"
  },
  "language_info": {
   "codemirror_mode": {
    "name": "ipython",
    "version": 3
   },
   "file_extension": ".py",
   "mimetype": "text/x-python",
   "name": "python",
   "nbconvert_exporter": "python",
   "pygments_lexer": "ipython3",
   "version": "3.9.7"
  },
  "orig_nbformat": 4
 },
 "nbformat": 4,
 "nbformat_minor": 2
}
