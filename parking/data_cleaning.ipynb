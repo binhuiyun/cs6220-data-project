{
 "cells": [
  {
   "cell_type": "code",
   "execution_count": 2,
   "metadata": {},
   "outputs": [],
   "source": [
    "import pandas as pd\n",
    "import numpy as np"
   ]
  },
  {
   "cell_type": "code",
   "execution_count": 3,
   "metadata": {},
   "outputs": [],
   "source": [
    "# import 30 days Paid_Parking_Occupancy data\n",
    "# parking rate only contains null, drop the entire column while reading csv file\n",
    "df = pd.read_csv('data/Paid_Parking_Occupancy__Last_30_Days_.csv')"
   ]
  },
  {
   "cell_type": "code",
   "execution_count": 74,
   "metadata": {},
   "outputs": [
    {
     "name": "stderr",
     "output_type": "stream",
     "text": [
      "/var/folders/50/_bd3qq2s24384tp_h3lqyhgh0000gn/T/ipykernel_32741/1982639406.py:1: FutureWarning: null_counts is deprecated. Use show_counts instead\n",
      "  df.info(null_counts=True)\n"
     ]
    },
    {
     "name": "stdout",
     "output_type": "stream",
     "text": [
      "<class 'pandas.core.frame.DataFrame'>\n",
      "RangeIndex: 30339022 entries, 0 to 30339021\n",
      "Data columns (total 12 columns):\n",
      " #   Column                    Non-Null Count     Dtype  \n",
      "---  ------                    --------------     -----  \n",
      " 0   OccupancyDateTime         30339022 non-null  object \n",
      " 1   PaidOccupancy             30339022 non-null  int64  \n",
      " 2   BlockfaceName             30339022 non-null  object \n",
      " 3   SideOfStreet              30339022 non-null  object \n",
      " 4   SourceElementKey          30339022 non-null  int64  \n",
      " 5   ParkingTimeLimitCategory  30298559 non-null  float64\n",
      " 6   ParkingSpaceCount         30339022 non-null  int64  \n",
      " 7   PaidParkingArea           30339022 non-null  object \n",
      " 8   PaidParkingSubArea        23050744 non-null  object \n",
      " 9   PaidParkingRate           0 non-null         float64\n",
      " 10  ParkingCategory           30339022 non-null  object \n",
      " 11  Location                  30339022 non-null  object \n",
      "dtypes: float64(2), int64(3), object(7)\n",
      "memory usage: 2.7+ GB\n"
     ]
    }
   ],
   "source": [
    "df.info(null_counts=True)"
   ]
  },
  {
   "cell_type": "code",
   "execution_count": 4,
   "metadata": {},
   "outputs": [],
   "source": [
    "# select data from interested location only\n",
    "df = df.loc[df['PaidParkingArea'].isin(['South Lake Union', 'Denny Triangle', 'First Hill', 'Capitol Hill'])]"
   ]
  },
  {
   "cell_type": "code",
   "execution_count": 76,
   "metadata": {},
   "outputs": [
    {
     "data": {
      "text/plain": [
       "South Lake Union    3621061\n",
       "First Hill          2803196\n",
       "Denny Triangle      1499665\n",
       "Capitol Hill        1005386\n",
       "Name: PaidParkingArea, dtype: int64"
      ]
     },
     "execution_count": 76,
     "metadata": {},
     "output_type": "execute_result"
    }
   ],
   "source": [
    "df['PaidParkingArea'].value_counts()"
   ]
  },
  {
   "cell_type": "code",
   "execution_count": 5,
   "metadata": {},
   "outputs": [
    {
     "data": {
      "text/plain": [
       "(8910938, 10)"
      ]
     },
     "execution_count": 5,
     "metadata": {},
     "output_type": "execute_result"
    }
   ],
   "source": [
    "df_clean = df.drop(['PaidParkingRate', 'PaidParkingSubArea'], axis = 1)\n",
    "# drop rows which contain missing values.\n",
    "df_clean = df_clean.dropna(axis=0)\n",
    "df_clean.shape"
   ]
  },
  {
   "cell_type": "markdown",
   "metadata": {},
   "source": [
    "Add availability information\n",
    "\n",
    "1. Calculate occupancy percentage: out of all provide parking space, what's the percentage of taken spaces\n",
    "2. Available parking spaces (int): Number of availabel parking spaces. 0 if paid spaces are equal or more than the parking space count. A car might leave before the parking expire, thus paird occupancy could be higher than the parking space count. \n",
    "3. AavailablePercentage : out of all provide parking space, what's the percentage of non-taken spaces\n"
   ]
  },
  {
   "cell_type": "code",
   "execution_count": 14,
   "metadata": {},
   "outputs": [
    {
     "data": {
      "text/plain": [
       "Index(['OccupancyDateTime', 'PaidOccupancy', 'BlockfaceName', 'SideOfStreet',\n",
       "       'SourceElementKey', 'ParkingTimeLimitCategory', 'ParkingSpaceCount',\n",
       "       'PaidParkingArea', 'ParkingCategory', 'Location', 'AvailableSpace',\n",
       "       'Latitude', 'Longitude', 'DayOfTheWeek', 'Hour', 'MinuteOfTheDay',\n",
       "       'OccupancyPercentage', 'AvailablePercentage'],\n",
       "      dtype='object')"
      ]
     },
     "execution_count": 14,
     "metadata": {},
     "output_type": "execute_result"
    }
   ],
   "source": [
    "df_clean['OccupancyPercentage'] = df_clean['PaidOccupancy']/df_clean['ParkingSpaceCount']\n",
    "df_clean['AvailableSpace'] = np.where(df_clean['ParkingSpaceCount'] - df_clean['PaidOccupancy'] > 0, df_clean['ParkingSpaceCount'] - df_clean['PaidOccupancy'], 0)\n",
    "df_clean['AvailablePercentage'] = df_clean['AvailableSpace']/df_clean['ParkingSpaceCount']\n",
    "df_clean.columns"
   ]
  },
  {
   "cell_type": "markdown",
   "metadata": {},
   "source": [
    "compute latitude and longitude"
   ]
  },
  {
   "cell_type": "code",
   "execution_count": 7,
   "metadata": {},
   "outputs": [
    {
     "data": {
      "text/plain": [
       "Index(['OccupancyDateTime', 'PaidOccupancy', 'BlockfaceName', 'SideOfStreet',\n",
       "       'SourceElementKey', 'ParkingTimeLimitCategory', 'ParkingSpaceCount',\n",
       "       'PaidParkingArea', 'ParkingCategory', 'Location', 'AvailableSpace',\n",
       "       'Latitude', 'Longitude'],\n",
       "      dtype='object')"
      ]
     },
     "execution_count": 7,
     "metadata": {},
     "output_type": "execute_result"
    }
   ],
   "source": [
    "location = df_clean.Location.str[7:-1]\n",
    "df_clean.Location.str.split(' ',expand=True)\n",
    "df_clean[['Latitude','Longitude']]=location.str.split(' ',expand=True)\n",
    "df_clean['Latitude'] = pd.to_numeric(df_clean['Latitude'])\n",
    "df_clean['Longitude'] = pd.to_numeric(df_clean['Longitude'])\n",
    "df_clean.columns"
   ]
  },
  {
   "cell_type": "markdown",
   "metadata": {},
   "source": [
    "Compute datetime information. \n",
    "\n",
    "1. Convert a string of time into a datetime object\n",
    "2. Compute day of the week, hour of the day and minute of the day\n",
    "3. sort by datetime"
   ]
  },
  {
   "cell_type": "code",
   "execution_count": 9,
   "metadata": {},
   "outputs": [],
   "source": [
    "df_clean['OccupancyDateTime'] = pd.to_datetime(df_clean['OccupancyDateTime'],infer_datetime_format=True)\n",
    "df_clean['DayOfTheWeek'] = df_clean['OccupancyDateTime'].dt.day_of_week\n",
    "df_clean['Hour'] = df_clean['OccupancyDateTime'].dt.hour\n",
    "minute = df_clean['OccupancyDateTime'].dt.minute\n",
    "df_clean['MinuteOfTheDay'] = df_clean['Hour'] * 60 + minute "
   ]
  },
  {
   "cell_type": "code",
   "execution_count": 10,
   "metadata": {},
   "outputs": [],
   "source": [
    "# sort the whole dataframe by chronological order\n",
    "df_clean = df_clean.sort_values(by=['OccupancyDateTime'])"
   ]
  },
  {
   "cell_type": "markdown",
   "metadata": {},
   "source": [
    "encode categorical features inclduing paid parking area and parking category"
   ]
  },
  {
   "cell_type": "code",
   "execution_count": 20,
   "metadata": {},
   "outputs": [],
   "source": [
    "cleanup_nums = {\"PaidParkingArea\":     \n",
    "                    {\"South Lake Union\": 1, \n",
    "                    \"Denny Triangle\": 2,\n",
    "                    \"First Hill\": 3,\n",
    "                    \"Capitol Hill\": 4},\n",
    "                \"ParkingCategory\": \n",
    "                    {\"Paid Parking\": 1, \n",
    "                    \"Restricted Parking Zone\": 2,\n",
    "                    \"Carpool Parking\": 3}}\n",
    "df_clean = df_clean.replace(cleanup_nums)"
   ]
  },
  {
   "cell_type": "code",
   "execution_count": 19,
   "metadata": {},
   "outputs": [
    {
     "data": {
      "text/html": [
       "<div>\n",
       "<style scoped>\n",
       "    .dataframe tbody tr th:only-of-type {\n",
       "        vertical-align: middle;\n",
       "    }\n",
       "\n",
       "    .dataframe tbody tr th {\n",
       "        vertical-align: top;\n",
       "    }\n",
       "\n",
       "    .dataframe thead th {\n",
       "        text-align: right;\n",
       "    }\n",
       "</style>\n",
       "<table border=\"1\" class=\"dataframe\">\n",
       "  <thead>\n",
       "    <tr style=\"text-align: right;\">\n",
       "      <th></th>\n",
       "      <th>DayOfTheWeek</th>\n",
       "      <th>MinuteOfTheDay</th>\n",
       "      <th>Latitude</th>\n",
       "      <th>Longitude</th>\n",
       "      <th>AvailableSpace</th>\n",
       "    </tr>\n",
       "  </thead>\n",
       "  <tbody>\n",
       "    <tr>\n",
       "      <th>28459351</th>\n",
       "      <td>1</td>\n",
       "      <td>720</td>\n",
       "      <td>-122.330015</td>\n",
       "      <td>47.616454</td>\n",
       "      <td>0</td>\n",
       "    </tr>\n",
       "    <tr>\n",
       "      <th>22643110</th>\n",
       "      <td>1</td>\n",
       "      <td>720</td>\n",
       "      <td>-122.321955</td>\n",
       "      <td>47.604256</td>\n",
       "      <td>8</td>\n",
       "    </tr>\n",
       "    <tr>\n",
       "      <th>26832891</th>\n",
       "      <td>1</td>\n",
       "      <td>720</td>\n",
       "      <td>-122.330488</td>\n",
       "      <td>47.619229</td>\n",
       "      <td>4</td>\n",
       "    </tr>\n",
       "    <tr>\n",
       "      <th>27987115</th>\n",
       "      <td>1</td>\n",
       "      <td>720</td>\n",
       "      <td>-122.323533</td>\n",
       "      <td>47.612504</td>\n",
       "      <td>8</td>\n",
       "    </tr>\n",
       "    <tr>\n",
       "      <th>28147181</th>\n",
       "      <td>1</td>\n",
       "      <td>720</td>\n",
       "      <td>-122.323931</td>\n",
       "      <td>47.608905</td>\n",
       "      <td>0</td>\n",
       "    </tr>\n",
       "    <tr>\n",
       "      <th>...</th>\n",
       "      <td>...</td>\n",
       "      <td>...</td>\n",
       "      <td>...</td>\n",
       "      <td>...</td>\n",
       "      <td>...</td>\n",
       "    </tr>\n",
       "    <tr>\n",
       "      <th>19648437</th>\n",
       "      <td>2</td>\n",
       "      <td>1319</td>\n",
       "      <td>-122.325646</td>\n",
       "      <td>47.615801</td>\n",
       "      <td>6</td>\n",
       "    </tr>\n",
       "    <tr>\n",
       "      <th>26993283</th>\n",
       "      <td>2</td>\n",
       "      <td>1319</td>\n",
       "      <td>-122.320969</td>\n",
       "      <td>47.619324</td>\n",
       "      <td>3</td>\n",
       "    </tr>\n",
       "    <tr>\n",
       "      <th>1662253</th>\n",
       "      <td>2</td>\n",
       "      <td>1319</td>\n",
       "      <td>-122.324585</td>\n",
       "      <td>47.615804</td>\n",
       "      <td>7</td>\n",
       "    </tr>\n",
       "    <tr>\n",
       "      <th>5239421</th>\n",
       "      <td>2</td>\n",
       "      <td>1319</td>\n",
       "      <td>-122.320363</td>\n",
       "      <td>47.621941</td>\n",
       "      <td>4</td>\n",
       "    </tr>\n",
       "    <tr>\n",
       "      <th>26593552</th>\n",
       "      <td>2</td>\n",
       "      <td>1319</td>\n",
       "      <td>-122.318060</td>\n",
       "      <td>47.615862</td>\n",
       "      <td>0</td>\n",
       "    </tr>\n",
       "  </tbody>\n",
       "</table>\n",
       "<p>8910938 rows × 5 columns</p>\n",
       "</div>"
      ],
      "text/plain": [
       "          DayOfTheWeek  MinuteOfTheDay    Latitude  Longitude  AvailableSpace\n",
       "28459351             1             720 -122.330015  47.616454               0\n",
       "22643110             1             720 -122.321955  47.604256               8\n",
       "26832891             1             720 -122.330488  47.619229               4\n",
       "27987115             1             720 -122.323533  47.612504               8\n",
       "28147181             1             720 -122.323931  47.608905               0\n",
       "...                ...             ...         ...        ...             ...\n",
       "19648437             2            1319 -122.325646  47.615801               6\n",
       "26993283             2            1319 -122.320969  47.619324               3\n",
       "1662253              2            1319 -122.324585  47.615804               7\n",
       "5239421              2            1319 -122.320363  47.621941               4\n",
       "26593552             2            1319 -122.318060  47.615862               0\n",
       "\n",
       "[8910938 rows x 5 columns]"
      ]
     },
     "execution_count": 19,
     "metadata": {},
     "output_type": "execute_result"
    }
   ],
   "source": [
    "df_for_model = df_clean[['DayOfTheWeek','MinuteOfTheDay',\n",
    "'Latitude','Longitude','AvailableSpace']]\n",
    "df_for_model"
   ]
  },
  {
   "cell_type": "code",
   "execution_count": 13,
   "metadata": {},
   "outputs": [],
   "source": [
    "df_for_model.to_csv('data/four_feature_clean_.csv.gz', compression='gzip')"
   ]
  },
  {
   "cell_type": "code",
   "execution_count": 21,
   "metadata": {},
   "outputs": [],
   "source": [
    "df_for_visual = df_clean[['DayOfTheWeek','MinuteOfTheDay','Hour',\n",
    "'Latitude','Longitude', 'Location', 'ParkingTimeLimitCategory', \n",
    "'AvailableSpace','AvailablePercentage','PaidParkingArea']]\n",
    "df_for_visual.to_csv('data/clean_data_visual.csv.gz', compression='gzip')"
   ]
  },
  {
   "cell_type": "markdown",
   "metadata": {},
   "source": [
    "# Coordinates data"
   ]
  },
  {
   "cell_type": "code",
   "execution_count": 80,
   "metadata": {},
   "outputs": [],
   "source": [
    "loc_df = df_clean[['Latitude','Longitude', 'BlockfaceName', 'SourceElementKey','SideOfStreet','ParkingSpaceCount','PaidParkingArea']]\n",
    "loc_df = loc_df.drop_duplicates(subset=['SourceElementKey'], keep='first')\n",
    "loc_df = loc_df.set_index('SourceElementKey')"
   ]
  },
  {
   "cell_type": "code",
   "execution_count": 81,
   "metadata": {},
   "outputs": [],
   "source": [
    "loc_df.to_csv('data/paystub_location.csv') "
   ]
  },
  {
   "cell_type": "code",
   "execution_count": null,
   "metadata": {},
   "outputs": [],
   "source": [
    "coord_df = loc_df[['Latitude','Longitude','ParkingSpaceCount']]"
   ]
  },
  {
   "cell_type": "code",
   "execution_count": null,
   "metadata": {},
   "outputs": [],
   "source": [
    "coord_df.to_csv('data/paystub_coordinates.csv', index=False) "
   ]
  }
 ],
 "metadata": {
  "interpreter": {
   "hash": "11462bf531a3597ff39310b0b72f96213688d56a408fada7b8e47d67eac450bd"
  },
  "kernelspec": {
   "display_name": "Python 3 (ipykernel)",
   "language": "python",
   "name": "python3"
  },
  "language_info": {
   "codemirror_mode": {
    "name": "ipython",
    "version": 3
   },
   "file_extension": ".py",
   "mimetype": "text/x-python",
   "name": "python",
   "nbconvert_exporter": "python",
   "pygments_lexer": "ipython3",
   "version": "3.9.7"
  }
 },
 "nbformat": 4,
 "nbformat_minor": 2
}
