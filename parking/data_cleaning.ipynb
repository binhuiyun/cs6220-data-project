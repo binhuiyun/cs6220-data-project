{
 "cells": [
  {
   "cell_type": "code",
   "execution_count": 31,
   "metadata": {},
   "outputs": [],
   "source": [
    "import pandas as pd\n",
    "import numpy as np"
   ]
  },
  {
   "cell_type": "code",
   "execution_count": 32,
   "metadata": {},
   "outputs": [],
   "source": [
    "slu = pd.read_csv('data/slu-Paid_Parking_Occupancy__Last_30_Days_.csv')\n",
    "# parking rate only contains null\n",
    "slu = slu.drop(['PaidParkingRate'], axis = 1)"
   ]
  },
  {
   "cell_type": "markdown",
   "metadata": {},
   "source": [
    "Add availability information\n",
    "\n",
    "1. Calculate occupancy percentage: The date and time (minute) of the transaction as recorded\n",
    "2. Aavailability (bool) : True if has available parking spaces. \n",
    "3. Available parking spaces (int): Number of availabel parking spaces. 0 if paid spaces are equal or more than the parking space count. A car might leave before the parking expire, thus paird occupancy could be higher than the parking space count. "
   ]
  },
  {
   "cell_type": "code",
   "execution_count": 33,
   "metadata": {},
   "outputs": [],
   "source": [
    "slu['OccupancyPercentage'] = slu['PaidOccupancy']/slu['ParkingSpaceCount']\n",
    "slu['HasAvailability'] = slu.OccupancyPercentage < 1\n",
    "slu['AvailableSpace'] = np.where(slu['ParkingSpaceCount'] - slu['PaidOccupancy'] > 0, slu['ParkingSpaceCount'] - slu['PaidOccupancy'], 0)"
   ]
  },
  {
   "cell_type": "markdown",
   "metadata": {},
   "source": [
    "compute latitude and longitude"
   ]
  },
  {
   "cell_type": "code",
   "execution_count": 34,
   "metadata": {},
   "outputs": [],
   "source": [
    "location = slu.Location.str[7:-1]\n",
    "slu.Location.str.split(' ',expand=True)\n",
    "slu[['Latitude','Longitude']]=location.str.split(' ',expand=True)\n",
    "slu['Latitude'] = pd.to_numeric(slu['Latitude'])\n",
    "slu['Longitude'] = pd.to_numeric(slu['Longitude'])"
   ]
  },
  {
   "cell_type": "markdown",
   "metadata": {},
   "source": [
    "Compute datetime information. \n",
    "\n",
    "1. Convert a string of time into a datetime object\n",
    "2. Check wheter a given date is a US holiday\n",
    "3. Compute day of the week, hour of the day and minute of the day\n",
    "5. sort by datetime"
   ]
  },
  {
   "cell_type": "code",
   "execution_count": 35,
   "metadata": {},
   "outputs": [],
   "source": [
    "from pandas.tseries.holiday import USFederalHolidayCalendar as calendar\n",
    "import time\n",
    "slu['OccupancyDateTime'] = pd.to_datetime(slu['OccupancyDateTime'],infer_datetime_format=True)\n",
    "cal = calendar()\n",
    "\n",
    "dr = pd.date_range(start=slu['OccupancyDateTime'].min(), end=slu['OccupancyDateTime'].max())\n",
    "holidays = cal.holidays(start=dr.min(), end=dr.max())\n",
    "slu['Holiday'] = slu['OccupancyDateTime'].isin(holidays)\n",
    "\n",
    "slu['DayOfTheWeek'] = slu['OccupancyDateTime'].dt.day_of_week\n",
    "slu['Year'] = slu['OccupancyDateTime'].dt.year\n",
    "slu['Month'] = slu['OccupancyDateTime'].dt.month\n",
    "slu['Day'] = slu['OccupancyDateTime'].dt.day\n",
    "slu['Hour'] = slu['OccupancyDateTime'].dt.hour\n",
    "slu['Minute'] = slu['OccupancyDateTime'].dt.minute\n",
    "slu['Second'] = slu['OccupancyDateTime'].dt.second\n",
    "slu['MinuteOfTheDay'] = slu['Hour'] * 60 * 60 + slu['Minute']  * 60"
   ]
  },
  {
   "cell_type": "code",
   "execution_count": 36,
   "metadata": {},
   "outputs": [],
   "source": [
    "slu = slu.sort_values(by=['OccupancyDateTime'])"
   ]
  },
  {
   "cell_type": "code",
   "execution_count": 37,
   "metadata": {},
   "outputs": [],
   "source": [
    "slu.to_csv('data/clean_data.csv', sep=',')"
   ]
  },
  {
   "cell_type": "code",
   "execution_count": 38,
   "metadata": {},
   "outputs": [
    {
     "data": {
      "text/plain": [
       "Index(['OccupancyDateTime', 'PaidOccupancy', 'BlockfaceName', 'SideOfStreet',\n",
       "       'SourceElementKey', 'ParkingTimeLimitCategory', 'ParkingSpaceCount',\n",
       "       'PaidParkingArea', 'PaidParkingSubArea', 'ParkingCategory', 'Location',\n",
       "       'OccupancyPercentage', 'HasAvailability', 'AvailableSpace', 'Latitude',\n",
       "       'Longitude', 'Holiday', 'DayOfTheWeek', 'Year', 'Month', 'Day', 'Hour',\n",
       "       'Minute', 'Second', 'MinuteOfTheDay'],\n",
       "      dtype='object')"
      ]
     },
     "execution_count": 38,
     "metadata": {},
     "output_type": "execute_result"
    }
   ],
   "source": [
    "slu.columns"
   ]
  },
  {
   "cell_type": "code",
   "execution_count": 39,
   "metadata": {},
   "outputs": [],
   "source": [
    "loc_df = slu[['Latitude','Longitude', 'BlockfaceName', 'SourceElementKey','SideOfStreet']]\n",
    "loc_df = loc_df.drop_duplicates(subset=['SourceElementKey'], keep='first')\n",
    "loc_df = loc_df.set_index('SourceElementKey')"
   ]
  },
  {
   "cell_type": "code",
   "execution_count": 40,
   "metadata": {},
   "outputs": [
    {
     "data": {
      "text/html": [
       "<div>\n",
       "<style scoped>\n",
       "    .dataframe tbody tr th:only-of-type {\n",
       "        vertical-align: middle;\n",
       "    }\n",
       "\n",
       "    .dataframe tbody tr th {\n",
       "        vertical-align: top;\n",
       "    }\n",
       "\n",
       "    .dataframe thead th {\n",
       "        text-align: right;\n",
       "    }\n",
       "</style>\n",
       "<table border=\"1\" class=\"dataframe\">\n",
       "  <thead>\n",
       "    <tr style=\"text-align: right;\">\n",
       "      <th></th>\n",
       "      <th>Latitude</th>\n",
       "      <th>Longitude</th>\n",
       "      <th>BlockfaceName</th>\n",
       "      <th>SideOfStreet</th>\n",
       "    </tr>\n",
       "    <tr>\n",
       "      <th>SourceElementKey</th>\n",
       "      <th></th>\n",
       "      <th></th>\n",
       "      <th></th>\n",
       "      <th></th>\n",
       "    </tr>\n",
       "  </thead>\n",
       "  <tbody>\n",
       "    <tr>\n",
       "      <th>35197</th>\n",
       "      <td>-122.336516</td>\n",
       "      <td>47.623268</td>\n",
       "      <td>REPUBLICAN ST BETWEEN TERRY AVE N AND BOREN AVE N</td>\n",
       "      <td>N</td>\n",
       "    </tr>\n",
       "    <tr>\n",
       "      <th>79790</th>\n",
       "      <td>-122.329810</td>\n",
       "      <td>47.624233</td>\n",
       "      <td>MERCER ST BETWEEN YALE AVE N AND EASTLAKE AVE E</td>\n",
       "      <td>S</td>\n",
       "    </tr>\n",
       "    <tr>\n",
       "      <th>8406</th>\n",
       "      <td>-122.340903</td>\n",
       "      <td>47.626663</td>\n",
       "      <td>8TH AVE N BETWEEN VALLEY ST AND ALOHA ST</td>\n",
       "      <td>E</td>\n",
       "    </tr>\n",
       "    <tr>\n",
       "      <th>57550</th>\n",
       "      <td>-122.331620</td>\n",
       "      <td>47.623680</td>\n",
       "      <td>PONTIUS AVE N BETWEEN REPUBLICAN ST AND MERCER ST</td>\n",
       "      <td>E</td>\n",
       "    </tr>\n",
       "    <tr>\n",
       "      <th>13110</th>\n",
       "      <td>-122.337055</td>\n",
       "      <td>47.621446</td>\n",
       "      <td>TERRY AVE N BETWEEN THOMAS ST AND HARRISON ST</td>\n",
       "      <td>E</td>\n",
       "    </tr>\n",
       "    <tr>\n",
       "      <th>...</th>\n",
       "      <td>...</td>\n",
       "      <td>...</td>\n",
       "      <td>...</td>\n",
       "      <td>...</td>\n",
       "    </tr>\n",
       "    <tr>\n",
       "      <th>58574</th>\n",
       "      <td>-122.335171</td>\n",
       "      <td>47.625641</td>\n",
       "      <td>VALLEY ST BETWEEN BOREN AVE N AND FAIRVIEW AVE N</td>\n",
       "      <td>S</td>\n",
       "    </tr>\n",
       "    <tr>\n",
       "      <th>81497</th>\n",
       "      <td>-122.339110</td>\n",
       "      <td>47.626219</td>\n",
       "      <td>WESTLAKE AVE N BETWEEN VALLEY ST AND 9TH AVE N</td>\n",
       "      <td>SW</td>\n",
       "    </tr>\n",
       "    <tr>\n",
       "      <th>14601</th>\n",
       "      <td>-122.327247</td>\n",
       "      <td>47.630477</td>\n",
       "      <td>E NELSON PL BETWEEN EASTLAKE AVE E AND DEAD END</td>\n",
       "      <td>NE</td>\n",
       "    </tr>\n",
       "    <tr>\n",
       "      <th>13138</th>\n",
       "      <td>-122.335108</td>\n",
       "      <td>47.620784</td>\n",
       "      <td>THOMAS ST BETWEEN BOREN AVE N AND FAIRVIEW AVE N</td>\n",
       "      <td>S</td>\n",
       "    </tr>\n",
       "    <tr>\n",
       "      <th>77266</th>\n",
       "      <td>-122.335750</td>\n",
       "      <td>47.619120</td>\n",
       "      <td>BOREN AVE N BETWEEN DENNY WAY AND JOHN ST</td>\n",
       "      <td>E</td>\n",
       "    </tr>\n",
       "  </tbody>\n",
       "</table>\n",
       "<p>211 rows × 4 columns</p>\n",
       "</div>"
      ],
      "text/plain": [
       "                    Latitude  Longitude  \\\n",
       "SourceElementKey                          \n",
       "35197            -122.336516  47.623268   \n",
       "79790            -122.329810  47.624233   \n",
       "8406             -122.340903  47.626663   \n",
       "57550            -122.331620  47.623680   \n",
       "13110            -122.337055  47.621446   \n",
       "...                      ...        ...   \n",
       "58574            -122.335171  47.625641   \n",
       "81497            -122.339110  47.626219   \n",
       "14601            -122.327247  47.630477   \n",
       "13138            -122.335108  47.620784   \n",
       "77266            -122.335750  47.619120   \n",
       "\n",
       "                                                      BlockfaceName  \\\n",
       "SourceElementKey                                                      \n",
       "35197             REPUBLICAN ST BETWEEN TERRY AVE N AND BOREN AVE N   \n",
       "79790               MERCER ST BETWEEN YALE AVE N AND EASTLAKE AVE E   \n",
       "8406                       8TH AVE N BETWEEN VALLEY ST AND ALOHA ST   \n",
       "57550             PONTIUS AVE N BETWEEN REPUBLICAN ST AND MERCER ST   \n",
       "13110                 TERRY AVE N BETWEEN THOMAS ST AND HARRISON ST   \n",
       "...                                                             ...   \n",
       "58574              VALLEY ST BETWEEN BOREN AVE N AND FAIRVIEW AVE N   \n",
       "81497                WESTLAKE AVE N BETWEEN VALLEY ST AND 9TH AVE N   \n",
       "14601               E NELSON PL BETWEEN EASTLAKE AVE E AND DEAD END   \n",
       "13138              THOMAS ST BETWEEN BOREN AVE N AND FAIRVIEW AVE N   \n",
       "77266                     BOREN AVE N BETWEEN DENNY WAY AND JOHN ST   \n",
       "\n",
       "                 SideOfStreet  \n",
       "SourceElementKey               \n",
       "35197                       N  \n",
       "79790                       S  \n",
       "8406                        E  \n",
       "57550                       E  \n",
       "13110                       E  \n",
       "...                       ...  \n",
       "58574                       S  \n",
       "81497                      SW  \n",
       "14601                      NE  \n",
       "13138                       S  \n",
       "77266                       E  \n",
       "\n",
       "[211 rows x 4 columns]"
      ]
     },
     "execution_count": 40,
     "metadata": {},
     "output_type": "execute_result"
    }
   ],
   "source": [
    "loc_df"
   ]
  },
  {
   "cell_type": "code",
   "execution_count": 41,
   "metadata": {},
   "outputs": [],
   "source": [
    "#loc_df.to_csv('data/paystub_location.csv') "
   ]
  },
  {
   "cell_type": "code",
   "execution_count": 42,
   "metadata": {},
   "outputs": [],
   "source": [
    "# loc_df[['Latitude',\t'Longitude']].to_csv('data/paystub_coordinates.csv') "
   ]
  }
 ],
 "metadata": {
  "interpreter": {
   "hash": "11462bf531a3597ff39310b0b72f96213688d56a408fada7b8e47d67eac450bd"
  },
  "kernelspec": {
   "display_name": "Python 3.9.12 ('base')",
   "language": "python",
   "name": "python3"
  },
  "language_info": {
   "codemirror_mode": {
    "name": "ipython",
    "version": 3
   },
   "file_extension": ".py",
   "mimetype": "text/x-python",
   "name": "python",
   "nbconvert_exporter": "python",
   "pygments_lexer": "ipython3",
   "version": "3.9.7"
  },
  "orig_nbformat": 4
 },
 "nbformat": 4,
 "nbformat_minor": 2
}
