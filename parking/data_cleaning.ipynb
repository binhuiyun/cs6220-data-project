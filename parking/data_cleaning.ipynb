{
 "cells": [
  {
   "cell_type": "code",
   "execution_count": 13,
   "metadata": {},
   "outputs": [],
   "source": [
    "import pandas as pd\n",
    "import numpy as np"
   ]
  },
  {
   "cell_type": "code",
   "execution_count": 14,
   "metadata": {},
   "outputs": [],
   "source": [
    "# import 30 days Paid_Parking_Occupancy data\n",
    "# parking rate only contains null, drop the entire column while reading csv file\n",
    "df = pd.read_csv('data/Paid_Parking_Occupancy__Last_30_Days_.csv')"
   ]
  },
  {
   "cell_type": "code",
   "execution_count": 15,
   "metadata": {},
   "outputs": [
    {
     "name": "stderr",
     "output_type": "stream",
     "text": [
      "/var/folders/50/_bd3qq2s24384tp_h3lqyhgh0000gn/T/ipykernel_29497/1982639406.py:1: FutureWarning: null_counts is deprecated. Use show_counts instead\n",
      "  df.info(null_counts=True)\n"
     ]
    },
    {
     "name": "stdout",
     "output_type": "stream",
     "text": [
      "<class 'pandas.core.frame.DataFrame'>\n",
      "RangeIndex: 30339022 entries, 0 to 30339021\n",
      "Data columns (total 12 columns):\n",
      " #   Column                    Non-Null Count     Dtype  \n",
      "---  ------                    --------------     -----  \n",
      " 0   OccupancyDateTime         30339022 non-null  object \n",
      " 1   PaidOccupancy             30339022 non-null  int64  \n",
      " 2   BlockfaceName             30339022 non-null  object \n",
      " 3   SideOfStreet              30339022 non-null  object \n",
      " 4   SourceElementKey          30339022 non-null  int64  \n",
      " 5   ParkingTimeLimitCategory  30298559 non-null  float64\n",
      " 6   ParkingSpaceCount         30339022 non-null  int64  \n",
      " 7   PaidParkingArea           30339022 non-null  object \n",
      " 8   PaidParkingSubArea        23050744 non-null  object \n",
      " 9   PaidParkingRate           0 non-null         float64\n",
      " 10  ParkingCategory           30339022 non-null  object \n",
      " 11  Location                  30339022 non-null  object \n",
      "dtypes: float64(2), int64(3), object(7)\n",
      "memory usage: 2.7+ GB\n"
     ]
    }
   ],
   "source": [
    "df.info(null_counts=True)"
   ]
  },
  {
   "cell_type": "code",
   "execution_count": 16,
   "metadata": {},
   "outputs": [],
   "source": [
    "# select data from interested location only\n",
    "df = df.loc[df['PaidParkingArea'].isin(['South Lake Union', 'Denny Triangle', 'First Hill', 'Capitol Hill'])]"
   ]
  },
  {
   "cell_type": "code",
   "execution_count": 21,
   "metadata": {},
   "outputs": [
    {
     "data": {
      "text/plain": [
       "(8929308, 12)"
      ]
     },
     "execution_count": 21,
     "metadata": {},
     "output_type": "execute_result"
    }
   ],
   "source": [
    "df.shape"
   ]
  },
  {
   "cell_type": "code",
   "execution_count": 25,
   "metadata": {},
   "outputs": [
    {
     "data": {
      "text/plain": [
       "(6107742, 11)"
      ]
     },
     "execution_count": 25,
     "metadata": {},
     "output_type": "execute_result"
    }
   ],
   "source": [
    "df_clean = df.drop(columns='PaidParkingRate', axis = 1)\n",
    "# drop rows which contain missing values.\n",
    "df_clean = df_clean.dropna(axis=0)\n",
    "df_clean.shape"
   ]
  },
  {
   "cell_type": "markdown",
   "metadata": {},
   "source": [
    "Add availability information\n",
    "\n",
    "1. Calculate occupancy percentage: The date and time (minute) of the transaction as recorded\n",
    "2. Aavailability (bool) : True if has available parking spaces. \n",
    "3. Available parking spaces (int): Number of availabel parking spaces. 0 if paid spaces are equal or more than the parking space count. A car might leave before the parking expire, thus paird occupancy could be higher than the parking space count. "
   ]
  },
  {
   "cell_type": "code",
   "execution_count": 26,
   "metadata": {},
   "outputs": [
    {
     "data": {
      "text/plain": [
       "Index(['OccupancyDateTime', 'PaidOccupancy', 'BlockfaceName', 'SideOfStreet',\n",
       "       'SourceElementKey', 'ParkingTimeLimitCategory', 'ParkingSpaceCount',\n",
       "       'PaidParkingArea', 'PaidParkingSubArea', 'ParkingCategory', 'Location',\n",
       "       'OccupancyPercentage', 'HasAvailability', 'AvailableSpace'],\n",
       "      dtype='object')"
      ]
     },
     "execution_count": 26,
     "metadata": {},
     "output_type": "execute_result"
    }
   ],
   "source": [
    "df_clean['OccupancyPercentage'] = df_clean['PaidOccupancy']/df_clean['ParkingSpaceCount']\n",
    "df_clean['HasAvailability'] = df_clean.OccupancyPercentage < 1\n",
    "df_clean['AvailableSpace'] = np.where(df_clean['ParkingSpaceCount'] - df_clean['PaidOccupancy'] > 0, df_clean['ParkingSpaceCount'] - df_clean['PaidOccupancy'], 0)\n",
    "df_clean.columns"
   ]
  },
  {
   "cell_type": "markdown",
   "metadata": {},
   "source": [
    "compute latitude and longitude"
   ]
  },
  {
   "cell_type": "code",
   "execution_count": 27,
   "metadata": {},
   "outputs": [
    {
     "data": {
      "text/plain": [
       "Index(['OccupancyDateTime', 'PaidOccupancy', 'BlockfaceName', 'SideOfStreet',\n",
       "       'SourceElementKey', 'ParkingTimeLimitCategory', 'ParkingSpaceCount',\n",
       "       'PaidParkingArea', 'PaidParkingSubArea', 'ParkingCategory', 'Location',\n",
       "       'OccupancyPercentage', 'HasAvailability', 'AvailableSpace', 'Latitude',\n",
       "       'Longitude'],\n",
       "      dtype='object')"
      ]
     },
     "execution_count": 27,
     "metadata": {},
     "output_type": "execute_result"
    }
   ],
   "source": [
    "location = df_clean.Location.str[7:-1]\n",
    "df_clean.Location.str.split(' ',expand=True)\n",
    "df_clean[['Latitude','Longitude']]=location.str.split(' ',expand=True)\n",
    "df_clean['Latitude'] = pd.to_numeric(df_clean['Latitude'])\n",
    "df_clean['Longitude'] = pd.to_numeric(df_clean['Longitude'])\n",
    "df_clean.columns"
   ]
  },
  {
   "cell_type": "markdown",
   "metadata": {},
   "source": [
    "Compute datetime information. \n",
    "\n",
    "1. Convert a string of time into a datetime object\n",
    "2. Check wheter a given date is a US holiday\n",
    "3. Compute day of the week, hour of the day and minute of the day\n",
    "5. sort by datetime"
   ]
  },
  {
   "cell_type": "code",
   "execution_count": 28,
   "metadata": {},
   "outputs": [],
   "source": [
    "from pandas.tseries.holiday import USFederalHolidayCalendar as calendar\n",
    "import time\n",
    "df_clean['OccupancyDateTime'] = pd.to_datetime(df_clean['OccupancyDateTime'],infer_datetime_format=True)\n",
    "\n",
    "df_clean['DayOfTheWeek'] = df_clean['OccupancyDateTime'].dt.day_of_week\n",
    "\n",
    "df_clean['Hour'] = df_clean['OccupancyDateTime'].dt.hour\n",
    "minute = df_clean['OccupancyDateTime'].dt.minute\n",
    "\n",
    "df_clean['MinuteOfTheDay'] = df_clean['Hour'] * 60 * 60 + minute  * 60"
   ]
  },
  {
   "cell_type": "code",
   "execution_count": 29,
   "metadata": {},
   "outputs": [
    {
     "data": {
      "text/plain": [
       "Index(['OccupancyDateTime', 'PaidOccupancy', 'BlockfaceName', 'SideOfStreet',\n",
       "       'SourceElementKey', 'ParkingTimeLimitCategory', 'ParkingSpaceCount',\n",
       "       'PaidParkingArea', 'PaidParkingSubArea', 'ParkingCategory', 'Location',\n",
       "       'OccupancyPercentage', 'HasAvailability', 'AvailableSpace', 'Latitude',\n",
       "       'Longitude', 'DayOfTheWeek', 'MinuteOfTheDay'],\n",
       "      dtype='object')"
      ]
     },
     "execution_count": 29,
     "metadata": {},
     "output_type": "execute_result"
    }
   ],
   "source": [
    "df_clean = df_clean.sort_values(by=['OccupancyDateTime'])\n",
    "df_clean.columns"
   ]
  },
  {
   "cell_type": "code",
   "execution_count": 30,
   "metadata": {},
   "outputs": [
    {
     "data": {
      "text/plain": [
       "(6107742, 18)"
      ]
     },
     "execution_count": 30,
     "metadata": {},
     "output_type": "execute_result"
    }
   ],
   "source": [
    "df_clean.shape"
   ]
  },
  {
   "cell_type": "code",
   "execution_count": 31,
   "metadata": {},
   "outputs": [],
   "source": [
    "df_clean.to_csv('data/clean_data.csv', sep=',')"
   ]
  },
  {
   "cell_type": "code",
   "execution_count": 34,
   "metadata": {},
   "outputs": [],
   "source": [
    "loc_df = df_clean[['Latitude','Longitude', 'BlockfaceName', 'SourceElementKey','SideOfStreet','ParkingSpaceCount','PaidParkingArea']]\n",
    "loc_df = loc_df.drop_duplicates(subset=['SourceElementKey'], keep='first')\n",
    "loc_df = loc_df.set_index('SourceElementKey')"
   ]
  },
  {
   "cell_type": "code",
   "execution_count": 35,
   "metadata": {},
   "outputs": [
    {
     "data": {
      "text/html": [
       "<div>\n",
       "<style scoped>\n",
       "    .dataframe tbody tr th:only-of-type {\n",
       "        vertical-align: middle;\n",
       "    }\n",
       "\n",
       "    .dataframe tbody tr th {\n",
       "        vertical-align: top;\n",
       "    }\n",
       "\n",
       "    .dataframe thead th {\n",
       "        text-align: right;\n",
       "    }\n",
       "</style>\n",
       "<table border=\"1\" class=\"dataframe\">\n",
       "  <thead>\n",
       "    <tr style=\"text-align: right;\">\n",
       "      <th></th>\n",
       "      <th>Latitude</th>\n",
       "      <th>Longitude</th>\n",
       "      <th>BlockfaceName</th>\n",
       "      <th>SideOfStreet</th>\n",
       "      <th>ParkingSpaceCount</th>\n",
       "      <th>PaidParkingArea</th>\n",
       "    </tr>\n",
       "    <tr>\n",
       "      <th>SourceElementKey</th>\n",
       "      <th></th>\n",
       "      <th></th>\n",
       "      <th></th>\n",
       "      <th></th>\n",
       "      <th></th>\n",
       "      <th></th>\n",
       "    </tr>\n",
       "  </thead>\n",
       "  <tbody>\n",
       "    <tr>\n",
       "      <th>32910</th>\n",
       "      <td>-122.342210</td>\n",
       "      <td>47.621481</td>\n",
       "      <td>DEXTER AVE N BETWEEN THOMAS ST AND HARRISON ST</td>\n",
       "      <td>E</td>\n",
       "      <td>5</td>\n",
       "      <td>South Lake Union</td>\n",
       "    </tr>\n",
       "    <tr>\n",
       "      <th>12682</th>\n",
       "      <td>-122.333446</td>\n",
       "      <td>47.625072</td>\n",
       "      <td>ROY ST BETWEEN FAIRVIEW AVE N AND MINOR AVE N</td>\n",
       "      <td>S</td>\n",
       "      <td>13</td>\n",
       "      <td>South Lake Union</td>\n",
       "    </tr>\n",
       "    <tr>\n",
       "      <th>34881</th>\n",
       "      <td>-122.331829</td>\n",
       "      <td>47.621392</td>\n",
       "      <td>PONTIUS AVE N BETWEEN THOMAS ST AND HARRISON ST</td>\n",
       "      <td>W</td>\n",
       "      <td>12</td>\n",
       "      <td>South Lake Union</td>\n",
       "    </tr>\n",
       "    <tr>\n",
       "      <th>36141</th>\n",
       "      <td>-122.338324</td>\n",
       "      <td>47.617113</td>\n",
       "      <td>WESTLAKE AVE BETWEEN LENORA ST AND BLANCHARD ST</td>\n",
       "      <td>W</td>\n",
       "      <td>8</td>\n",
       "      <td>Denny Triangle</td>\n",
       "    </tr>\n",
       "    <tr>\n",
       "      <th>78073</th>\n",
       "      <td>-122.329282</td>\n",
       "      <td>47.623698</td>\n",
       "      <td>EASTLAKE AVE E BETWEEN REPUBLICAN ST AND MERCE...</td>\n",
       "      <td>W</td>\n",
       "      <td>13</td>\n",
       "      <td>South Lake Union</td>\n",
       "    </tr>\n",
       "    <tr>\n",
       "      <th>...</th>\n",
       "      <td>...</td>\n",
       "      <td>...</td>\n",
       "      <td>...</td>\n",
       "      <td>...</td>\n",
       "      <td>...</td>\n",
       "      <td>...</td>\n",
       "    </tr>\n",
       "    <tr>\n",
       "      <th>77262</th>\n",
       "      <td>-122.334853</td>\n",
       "      <td>47.618296</td>\n",
       "      <td>BOREN AVE BETWEEN FAIRVIEW AVE AND DENNY WAY</td>\n",
       "      <td>NE</td>\n",
       "      <td>4</td>\n",
       "      <td>Denny Triangle</td>\n",
       "    </tr>\n",
       "    <tr>\n",
       "      <th>34489</th>\n",
       "      <td>-122.332569</td>\n",
       "      <td>47.617953</td>\n",
       "      <td>MINOR AVE BETWEEN STEWART ST AND VIRGINIA ST</td>\n",
       "      <td>SW</td>\n",
       "      <td>11</td>\n",
       "      <td>Denny Triangle</td>\n",
       "    </tr>\n",
       "    <tr>\n",
       "      <th>13138</th>\n",
       "      <td>-122.335108</td>\n",
       "      <td>47.620784</td>\n",
       "      <td>THOMAS ST BETWEEN BOREN AVE N AND FAIRVIEW AVE N</td>\n",
       "      <td>S</td>\n",
       "      <td>10</td>\n",
       "      <td>South Lake Union</td>\n",
       "    </tr>\n",
       "    <tr>\n",
       "      <th>14601</th>\n",
       "      <td>-122.327247</td>\n",
       "      <td>47.630477</td>\n",
       "      <td>E NELSON PL BETWEEN EASTLAKE AVE E AND DEAD END</td>\n",
       "      <td>NE</td>\n",
       "      <td>3</td>\n",
       "      <td>South Lake Union</td>\n",
       "    </tr>\n",
       "    <tr>\n",
       "      <th>77266</th>\n",
       "      <td>-122.335750</td>\n",
       "      <td>47.619120</td>\n",
       "      <td>BOREN AVE N BETWEEN DENNY WAY AND JOHN ST</td>\n",
       "      <td>E</td>\n",
       "      <td>6</td>\n",
       "      <td>South Lake Union</td>\n",
       "    </tr>\n",
       "  </tbody>\n",
       "</table>\n",
       "<p>334 rows × 6 columns</p>\n",
       "</div>"
      ],
      "text/plain": [
       "                    Latitude  Longitude  \\\n",
       "SourceElementKey                          \n",
       "32910            -122.342210  47.621481   \n",
       "12682            -122.333446  47.625072   \n",
       "34881            -122.331829  47.621392   \n",
       "36141            -122.338324  47.617113   \n",
       "78073            -122.329282  47.623698   \n",
       "...                      ...        ...   \n",
       "77262            -122.334853  47.618296   \n",
       "34489            -122.332569  47.617953   \n",
       "13138            -122.335108  47.620784   \n",
       "14601            -122.327247  47.630477   \n",
       "77266            -122.335750  47.619120   \n",
       "\n",
       "                                                      BlockfaceName  \\\n",
       "SourceElementKey                                                      \n",
       "32910                DEXTER AVE N BETWEEN THOMAS ST AND HARRISON ST   \n",
       "12682                 ROY ST BETWEEN FAIRVIEW AVE N AND MINOR AVE N   \n",
       "34881               PONTIUS AVE N BETWEEN THOMAS ST AND HARRISON ST   \n",
       "36141               WESTLAKE AVE BETWEEN LENORA ST AND BLANCHARD ST   \n",
       "78073             EASTLAKE AVE E BETWEEN REPUBLICAN ST AND MERCE...   \n",
       "...                                                             ...   \n",
       "77262                  BOREN AVE BETWEEN FAIRVIEW AVE AND DENNY WAY   \n",
       "34489                  MINOR AVE BETWEEN STEWART ST AND VIRGINIA ST   \n",
       "13138              THOMAS ST BETWEEN BOREN AVE N AND FAIRVIEW AVE N   \n",
       "14601               E NELSON PL BETWEEN EASTLAKE AVE E AND DEAD END   \n",
       "77266                     BOREN AVE N BETWEEN DENNY WAY AND JOHN ST   \n",
       "\n",
       "                 SideOfStreet  ParkingSpaceCount   PaidParkingArea  \n",
       "SourceElementKey                                                    \n",
       "32910                       E                  5  South Lake Union  \n",
       "12682                       S                 13  South Lake Union  \n",
       "34881                       W                 12  South Lake Union  \n",
       "36141                       W                  8    Denny Triangle  \n",
       "78073                       W                 13  South Lake Union  \n",
       "...                       ...                ...               ...  \n",
       "77262                      NE                  4    Denny Triangle  \n",
       "34489                      SW                 11    Denny Triangle  \n",
       "13138                       S                 10  South Lake Union  \n",
       "14601                      NE                  3  South Lake Union  \n",
       "77266                       E                  6  South Lake Union  \n",
       "\n",
       "[334 rows x 6 columns]"
      ]
     },
     "execution_count": 35,
     "metadata": {},
     "output_type": "execute_result"
    }
   ],
   "source": [
    "loc_df"
   ]
  },
  {
   "cell_type": "code",
   "execution_count": 36,
   "metadata": {},
   "outputs": [],
   "source": [
    "loc_df.to_csv('data/paystub_location.csv') "
   ]
  },
  {
   "cell_type": "code",
   "execution_count": 37,
   "metadata": {},
   "outputs": [],
   "source": [
    "coord_df = loc_df[['Latitude','Longitude','ParkingSpaceCount']]"
   ]
  },
  {
   "cell_type": "code",
   "execution_count": 38,
   "metadata": {},
   "outputs": [],
   "source": [
    "coord_df.to_csv('data/paystub_coordinates.csv', index=False) "
   ]
  }
 ],
 "metadata": {
  "interpreter": {
   "hash": "11462bf531a3597ff39310b0b72f96213688d56a408fada7b8e47d67eac450bd"
  },
  "kernelspec": {
   "display_name": "Python 3 (ipykernel)",
   "language": "python",
   "name": "python3"
  },
  "language_info": {
   "codemirror_mode": {
    "name": "ipython",
    "version": 3
   },
   "file_extension": ".py",
   "mimetype": "text/x-python",
   "name": "python",
   "nbconvert_exporter": "python",
   "pygments_lexer": "ipython3",
   "version": "3.8.9"
  }
 },
 "nbformat": 4,
 "nbformat_minor": 2
}
