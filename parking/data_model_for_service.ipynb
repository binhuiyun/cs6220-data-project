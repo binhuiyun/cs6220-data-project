{
 "cells": [
  {
   "cell_type": "code",
   "execution_count": null,
   "metadata": {},
   "outputs": [],
   "source": [
    "import pandas as pd\n",
    "import numpy as np"
   ]
  },
  {
   "cell_type": "code",
   "execution_count": null,
   "metadata": {},
   "outputs": [],
   "source": [
    "df = pd.read_csv('data/seven_feature_clean_.csv')"
   ]
  },
  {
   "cell_type": "code",
   "execution_count": 25,
   "metadata": {},
   "outputs": [
    {
     "data": {
      "text/html": [
       "<div>\n",
       "<style scoped>\n",
       "    .dataframe tbody tr th:only-of-type {\n",
       "        vertical-align: middle;\n",
       "    }\n",
       "\n",
       "    .dataframe tbody tr th {\n",
       "        vertical-align: top;\n",
       "    }\n",
       "\n",
       "    .dataframe thead th {\n",
       "        text-align: right;\n",
       "    }\n",
       "</style>\n",
       "<table border=\"1\" class=\"dataframe\">\n",
       "  <thead>\n",
       "    <tr style=\"text-align: right;\">\n",
       "      <th></th>\n",
       "      <th>Unnamed: 0</th>\n",
       "      <th>DayOfTheWeek</th>\n",
       "      <th>MinuteOfTheDay</th>\n",
       "      <th>Latitude</th>\n",
       "      <th>Longitude</th>\n",
       "      <th>ParkingSpaceCount</th>\n",
       "      <th>ParkingTimeLimitCategory</th>\n",
       "      <th>ParkingCategory</th>\n",
       "      <th>AvailableSpace</th>\n",
       "    </tr>\n",
       "  </thead>\n",
       "  <tbody>\n",
       "    <tr>\n",
       "      <th>0</th>\n",
       "      <td>28459351</td>\n",
       "      <td>1</td>\n",
       "      <td>720.0</td>\n",
       "      <td>-122.330015</td>\n",
       "      <td>47.616454</td>\n",
       "      <td>7</td>\n",
       "      <td>240.0</td>\n",
       "      <td>1</td>\n",
       "      <td>0</td>\n",
       "    </tr>\n",
       "    <tr>\n",
       "      <th>1</th>\n",
       "      <td>22643110</td>\n",
       "      <td>1</td>\n",
       "      <td>720.0</td>\n",
       "      <td>-122.321955</td>\n",
       "      <td>47.604256</td>\n",
       "      <td>9</td>\n",
       "      <td>120.0</td>\n",
       "      <td>2</td>\n",
       "      <td>8</td>\n",
       "    </tr>\n",
       "    <tr>\n",
       "      <th>2</th>\n",
       "      <td>26832891</td>\n",
       "      <td>1</td>\n",
       "      <td>720.0</td>\n",
       "      <td>-122.330488</td>\n",
       "      <td>47.619229</td>\n",
       "      <td>10</td>\n",
       "      <td>120.0</td>\n",
       "      <td>1</td>\n",
       "      <td>4</td>\n",
       "    </tr>\n",
       "    <tr>\n",
       "      <th>3</th>\n",
       "      <td>27987115</td>\n",
       "      <td>1</td>\n",
       "      <td>720.0</td>\n",
       "      <td>-122.323533</td>\n",
       "      <td>47.612504</td>\n",
       "      <td>8</td>\n",
       "      <td>120.0</td>\n",
       "      <td>2</td>\n",
       "      <td>8</td>\n",
       "    </tr>\n",
       "    <tr>\n",
       "      <th>4</th>\n",
       "      <td>28147181</td>\n",
       "      <td>1</td>\n",
       "      <td>720.0</td>\n",
       "      <td>-122.323931</td>\n",
       "      <td>47.608905</td>\n",
       "      <td>4</td>\n",
       "      <td>120.0</td>\n",
       "      <td>1</td>\n",
       "      <td>0</td>\n",
       "    </tr>\n",
       "  </tbody>\n",
       "</table>\n",
       "</div>"
      ],
      "text/plain": [
       "   Unnamed: 0  DayOfTheWeek  MinuteOfTheDay    Latitude  Longitude  \\\n",
       "0    28459351             1           720.0 -122.330015  47.616454   \n",
       "1    22643110             1           720.0 -122.321955  47.604256   \n",
       "2    26832891             1           720.0 -122.330488  47.619229   \n",
       "3    27987115             1           720.0 -122.323533  47.612504   \n",
       "4    28147181             1           720.0 -122.323931  47.608905   \n",
       "\n",
       "   ParkingSpaceCount  ParkingTimeLimitCategory  ParkingCategory  \\\n",
       "0                  7                     240.0                1   \n",
       "1                  9                     120.0                2   \n",
       "2                 10                     120.0                1   \n",
       "3                  8                     120.0                2   \n",
       "4                  4                     120.0                1   \n",
       "\n",
       "   AvailableSpace  \n",
       "0               0  \n",
       "1               8  \n",
       "2               4  \n",
       "3               8  \n",
       "4               0  "
      ]
     },
     "execution_count": 25,
     "metadata": {},
     "output_type": "execute_result"
    }
   ],
   "source": [
    "df['MinuteOfTheDay']=df['MinuteOfTheDay']/60\n",
    "df.head()"
   ]
  },
  {
   "cell_type": "code",
   "execution_count": 26,
   "metadata": {},
   "outputs": [],
   "source": [
    "y = df[\"AvailableSpace\"]\n",
    "    # All other columns will be used as features when training our model\n",
    "X = df.drop([\"AvailableSpace\",\"ParkingSpaceCount\",\"Unnamed: 0\",\"ParkingCategory\",\"ParkingTimeLimitCategory\"], axis=1)"
   ]
  },
  {
   "cell_type": "code",
   "execution_count": 32,
   "metadata": {},
   "outputs": [
    {
     "name": "stdout",
     "output_type": "stream",
     "text": [
      "Coefficient of determination: 0.86\n"
     ]
    }
   ],
   "source": [
    "from sklearn.model_selection import train_test_split \n",
    "from sklearn import datasets, linear_model\n",
    "from sklearn.ensemble import RandomForestRegressor\n",
    "from sklearn.metrics import mean_squared_error, r2_score\n",
    "\n",
    "X_train, X_test, y_train, y_test = train_test_split(\n",
    "        X, y, test_size=0.33, random_state=0)\n",
    "\n",
    "model = RandomForestRegressor(max_depth=16, random_state=0, n_jobs=-1)\n",
    "model.fit(X_train, y_train)\n",
    " \n",
    "y_pred = model.predict(X_test)\n",
    "print(\"Coefficient of determination: %.2f\" % r2_score(y_test, y_pred))"
   ]
  },
  {
   "cell_type": "code",
   "execution_count": 30,
   "metadata": {},
   "outputs": [
    {
     "data": {
      "text/plain": [
       "Index(['DayOfTheWeek', 'MinuteOfTheDay', 'Latitude', 'Longitude'], dtype='object')"
      ]
     },
     "execution_count": 30,
     "metadata": {},
     "output_type": "execute_result"
    }
   ],
   "source": [
    "X.columns"
   ]
  },
  {
   "cell_type": "code",
   "execution_count": 33,
   "metadata": {},
   "outputs": [
    {
     "data": {
      "image/png": "[encoded data removed]",
      "text/plain": [
       "<Figure size 432x288 with 1 Axes>"
      ]
     },
     "metadata": {
      "needs_background": "light"
     },
     "output_type": "display_data"
    }
   ],
   "source": [
    "import matplotlib.pyplot as plt\n",
    "importances = pd.DataFrame(data={\n",
    "    'Features': X_train.columns,\n",
    "    'Importance': model.feature_importances_\n",
    "})\n",
    "importances = importances.sort_values(by='Importance', ascending=False)\n",
    "\n",
    "plt.bar(x=importances['Features'], height=importances['Importance'], color='#087E8B')\n",
    "plt.title('Feature importances obtained from random forest', size=20)\n",
    "plt.xticks(rotation='vertical')\n",
    "plt.show()"
   ]
  },
  {
   "cell_type": "code",
   "execution_count": 34,
   "metadata": {},
   "outputs": [
    {
     "data": {
      "text/plain": [
       "['random-forest.joblib']"
      ]
     },
     "execution_count": 34,
     "metadata": {},
     "output_type": "execute_result"
    }
   ],
   "source": [
    "from joblib import dump, load\n",
    "dump(model, 'random-forest.joblib')"
   ]
  },
  {
   "cell_type": "code",
   "execution_count": null,
   "metadata": {},
   "outputs": [],
   "source": []
  }
 ],
 "metadata": {
  "interpreter": {
   "hash": "11462bf531a3597ff39310b0b72f96213688d56a408fada7b8e47d67eac450bd"
  },
  "kernelspec": {
   "display_name": "Python 3 (ipykernel)",
   "language": "python",
   "name": "python3"
  },
  "language_info": {
   "codemirror_mode": {
    "name": "ipython",
    "version": 3
   },
   "file_extension": ".py",
   "mimetype": "text/x-python",
   "name": "python",
   "nbconvert_exporter": "python",
   "pygments_lexer": "ipython3",
   "version": "3.9.7"
  }
 },
 "nbformat": 4,
 "nbformat_minor": 2
}
