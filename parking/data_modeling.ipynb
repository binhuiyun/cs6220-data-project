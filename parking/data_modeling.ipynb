{
 "cells": [
  {
   "cell_type": "code",
   "execution_count": 1,
   "metadata": {},
   "outputs": [],
   "source": [
    "import pandas as pd\n",
    "from sklearn.feature_extraction.text import TfidfVectorizer\n",
    "import seaborn as sns\n",
    "import matplotlib.pyplot as plt\n",
    "from sklearn.preprocessing import OneHotEncoder\n",
    "from sklearn.compose import make_column_transformer\n",
    "from sklearn import metrics\n",
    "from sklearn.model_selection import train_test_split\n",
    "from sklearn.model_selection import cross_val_score\n",
    "from sklearn.ensemble import RandomForestRegressor\n",
    "from imblearn.under_sampling import RandomUnderSampler\n",
    "\n",
    "# Method that split input data into that 67% train and 33% test data set\n",
    "def get_train_test(X, y):\n",
    "    X_train, X_test, y_train, y_test = train_test_split(X, y, test_size=0.33, random_state=42)\n",
    "    return X_train, X_test, y_train, y_test\n",
    "\n",
    "def corss_validation(model, X, y):\n",
    "    score = cross_val_score(model, X, y,scoring='accuracy', cv=3, n_jobs = -1)\n",
    "    print('Cross Validation Accuracy: %.3f mean with a standard deviation of %.3f' % (score.mean(), score.std()))\n",
    "\n",
    "\n",
    "# Method that generate metrics for precision & recall, F1 score, as well as conufsion matrix\n",
    "def classification_metrics(test, predict):\n",
    "    met = metrics.classification_report(test, predict)\n",
    "    print(\"classification metrics:\")\n",
    "    print(met)\n",
    "    print('\\n')\n",
    "    # compute confusion matrix\n",
    "    conf_matrix = metrics.confusion_matrix(test, predict)\n",
    "    ax = sns.heatmap(conf_matrix, annot=True, cmap='Blues', fmt='g')\n",
    "    ax.set_title('Confusion Matrix\\n')\n",
    "    ax.set_xlabel('Predicted value')\n",
    "    ax.set_ylabel('Actual Values ')\n",
    "    ax.xaxis.set_ticklabels(['False','True'])\n",
    "    ax.yaxis.set_ticklabels(['False','True'])\n",
    "    plt.show()\n",
    "\n",
    "def regression_metrics(model, X_train, y_train, kfold):\n",
    "    scoring = \"neg_mean_absolute_error\"\n",
    "    results = cross_val_score(model, X_train, y_train, cv=kfold, scoring=scoring)\n",
    "    print(\"Mean Absolute Error: \", results.mean())\n",
    "    print(\"Standard Deviation: \", results.std())\n",
    "\n",
    "    scoring = \"neg_mean_squared_error\"\n",
    "    results = cross_val_score(model, X_train, y_train, cv=kfold, scoring=scoring)\n",
    "    print() \n",
    "    print(\"Mean Squared Error: \", results.mean())\n",
    "    print(\"Standard Deviation: \", results.std())\n",
    "\n",
    "    scoring = \"r2\"\n",
    "    results = cross_val_score(model, X_train, y_train, cv=kfold, scoring=scoring)\n",
    "    print()\n",
    "    print(\"R squared val: \", results.mean())\n",
    "    print(\"Standard Deviation: \", results.std())"
   ]
  },
  {
   "cell_type": "code",
   "execution_count": 2,
   "metadata": {},
   "outputs": [],
   "source": [
    "df = pd.read_csv('data/clean_data.csv')"
   ]
  },
  {
   "cell_type": "markdown",
   "metadata": {},
   "source": [
    "# Data Transform"
   ]
  },
  {
   "cell_type": "code",
   "execution_count": 3,
   "metadata": {},
   "outputs": [],
   "source": [
    "y = df['AvailableSpace']\n",
    "features = df[['DayOfTheWeek', 'MinuteOfTheDay', 'Latitude', 'Longitude']]\n",
    "# ohe = OneHotEncoder()\n",
    "# vect = TfidfVectorizer(analyzer='word', lowercase = True, stop_words='english')\n",
    "# ct = make_column_transformer(\n",
    "#     (vect,'BlockfaceName'),\n",
    "#     remainder = 'passthrough'\n",
    "# )\n",
    "# X = ct.fit_transform(features)"
   ]
  },
  {
   "cell_type": "code",
   "execution_count": 4,
   "metadata": {},
   "outputs": [],
   "source": [
    "rus = RandomUnderSampler(random_state=0, replacement=True)\n",
    "X_resampled, y_resampled = rus.fit_resample(features, y)"
   ]
  },
  {
   "cell_type": "markdown",
   "metadata": {},
   "source": [
    "# Regression on balanced data"
   ]
  },
  {
   "cell_type": "code",
   "execution_count": 5,
   "metadata": {},
   "outputs": [],
   "source": [
    "X_train, X_test, y_train, y_test = get_train_test(X_resampled, y_resampled)"
   ]
  },
  {
   "cell_type": "code",
   "execution_count": 12,
   "metadata": {},
   "outputs": [
    {
     "data": {
      "text/html": [
       "<div>\n",
       "<style scoped>\n",
       "    .dataframe tbody tr th:only-of-type {\n",
       "        vertical-align: middle;\n",
       "    }\n",
       "\n",
       "    .dataframe tbody tr th {\n",
       "        vertical-align: top;\n",
       "    }\n",
       "\n",
       "    .dataframe thead th {\n",
       "        text-align: right;\n",
       "    }\n",
       "</style>\n",
       "<table border=\"1\" class=\"dataframe\">\n",
       "  <thead>\n",
       "    <tr style=\"text-align: right;\">\n",
       "      <th></th>\n",
       "      <th>DayOfTheWeek</th>\n",
       "      <th>MinuteOfTheDay</th>\n",
       "      <th>Latitude</th>\n",
       "      <th>Longitude</th>\n",
       "    </tr>\n",
       "  </thead>\n",
       "  <tbody>\n",
       "    <tr>\n",
       "      <th>82229</th>\n",
       "      <td>2</td>\n",
       "      <td>57720</td>\n",
       "      <td>-122.341183</td>\n",
       "      <td>47.620326</td>\n",
       "    </tr>\n",
       "    <tr>\n",
       "      <th>5245</th>\n",
       "      <td>3</td>\n",
       "      <td>40680</td>\n",
       "      <td>-122.343030</td>\n",
       "      <td>47.620961</td>\n",
       "    </tr>\n",
       "    <tr>\n",
       "      <th>59458</th>\n",
       "      <td>2</td>\n",
       "      <td>35280</td>\n",
       "      <td>-122.334445</td>\n",
       "      <td>47.621436</td>\n",
       "    </tr>\n",
       "    <tr>\n",
       "      <th>100470</th>\n",
       "      <td>4</td>\n",
       "      <td>32640</td>\n",
       "      <td>-122.332884</td>\n",
       "      <td>47.621398</td>\n",
       "    </tr>\n",
       "    <tr>\n",
       "      <th>47216</th>\n",
       "      <td>5</td>\n",
       "      <td>51960</td>\n",
       "      <td>-122.333446</td>\n",
       "      <td>47.625072</td>\n",
       "    </tr>\n",
       "  </tbody>\n",
       "</table>\n",
       "</div>"
      ],
      "text/plain": [
       "        DayOfTheWeek  MinuteOfTheDay    Latitude  Longitude\n",
       "82229              2           57720 -122.341183  47.620326\n",
       "5245               3           40680 -122.343030  47.620961\n",
       "59458              2           35280 -122.334445  47.621436\n",
       "100470             4           32640 -122.332884  47.621398\n",
       "47216              5           51960 -122.333446  47.625072"
      ]
     },
     "execution_count": 12,
     "metadata": {},
     "output_type": "execute_result"
    }
   ],
   "source": [
    "X_train.head()"
   ]
  },
  {
   "cell_type": "code",
   "execution_count": 6,
   "metadata": {},
   "outputs": [],
   "source": [
    "rfr = RandomForestRegressor(max_depth=16, random_state=0, n_jobs=-1)\n",
    "rfr = rfr.fit(X_train, y_train)"
   ]
  },
  {
   "cell_type": "code",
   "execution_count": 7,
   "metadata": {},
   "outputs": [
    {
     "name": "stdout",
     "output_type": "stream",
     "text": [
      "Mean Absolute Error:  -1.1610726900125061\n",
      "Standard Deviation:  0.009916983422415078\n",
      "\n",
      "Mean Squared Error:  -2.6522454455626905\n",
      "Standard Deviation:  0.061030722014674355\n",
      "\n",
      "R squared val:  0.9647029037968784\n",
      "Standard Deviation:  0.0009779668367292777\n"
     ]
    }
   ],
   "source": [
    "regression_metrics(rfr, X_train, y_train, 10)"
   ]
  },
  {
   "cell_type": "markdown",
   "metadata": {},
   "source": [
    "# Front-End Prediction"
   ]
  },
  {
   "cell_type": "code",
   "execution_count": 8,
   "metadata": {},
   "outputs": [],
   "source": [
    "f = ['DayOfTheWeek', 'MinuteOfTheDay', 'Latitude', 'Longitude']\n",
    "user_in = [5, 600, -122.33651591,47.62326784]\n",
    "user_df = pd.DataFrame(user_in).T\n",
    "user_df.columns = f"
   ]
  },
  {
   "cell_type": "code",
   "execution_count": 9,
   "metadata": {},
   "outputs": [
    {
     "data": {
      "text/plain": [
       "array([4.71231028])"
      ]
     },
     "execution_count": 9,
     "metadata": {},
     "output_type": "execute_result"
    }
   ],
   "source": [
    "out = rfr.predict(user_df)\n",
    "out"
   ]
  },
  {
   "cell_type": "code",
   "execution_count": 10,
   "metadata": {},
   "outputs": [
    {
     "data": {
      "text/plain": [
       "['random-forest.joblib']"
      ]
     },
     "execution_count": 10,
     "metadata": {},
     "output_type": "execute_result"
    }
   ],
   "source": [
    "from joblib import dump\n",
    "dump(rfr, 'random-forest.joblib')"
   ]
  },
  {
   "cell_type": "markdown",
   "metadata": {},
   "source": [
    "# Tuning HyperParameters"
   ]
  },
  {
   "cell_type": "code",
   "execution_count": 14,
   "metadata": {},
   "outputs": [],
   "source": [
    "# from sklearn.model_selection import GridSearchCV\n",
    "# # dict of parameters settings that has been used in hyperparameters tuning\n",
    "# param_grid = dict(\n",
    "#     max_depth = [10, 16, 22],\n",
    "#     random_state = [0, 42, None]\n",
    "# )\n",
    "\n",
    "# grid = GridSearchCV(RandomForestRegressor(), param_grid, refit = True, verbose = 0, n_jobs=-1) "
   ]
  },
  {
   "cell_type": "code",
   "execution_count": 15,
   "metadata": {},
   "outputs": [
    {
     "name": "stdout",
     "output_type": "stream",
     "text": [
      "{'max_depth': 16, 'random_state': 0}\n"
     ]
    }
   ],
   "source": [
    "# # fitting the model for grid search \n",
    "# grid.fit(X_train, y_train) \n",
    " \n",
    "# # print best parameter after tuning \n",
    "# print(grid.best_params_) "
   ]
  }
 ],
 "metadata": {
  "interpreter": {
   "hash": "40d3a090f54c6569ab1632332b64b2c03c39dcf918b08424e98f38b5ae0af88f"
  },
  "kernelspec": {
   "display_name": "Python 3 (ipykernel)",
   "language": "python",
   "name": "python3"
  },
  "language_info": {
   "codemirror_mode": {
    "name": "ipython",
    "version": 3
   },
   "file_extension": ".py",
   "mimetype": "text/x-python",
   "name": "python",
   "nbconvert_exporter": "python",
   "pygments_lexer": "ipython3",
   "version": "3.9.7"
  }
 },
 "nbformat": 4,
 "nbformat_minor": 2
}
