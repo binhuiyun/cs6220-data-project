{
 "cells": [
  {
   "cell_type": "code",
   "execution_count": 1,
   "metadata": {},
   "outputs": [],
   "source": [
    "import pandas as pd\n",
    "from sklearn.pipeline import Pipeline\n",
    "from sklearn.feature_extraction.text import TfidfVectorizer\n",
    "import seaborn as sns\n",
    "import matplotlib.pyplot as plt\n",
    "from sklearn.preprocessing import OneHotEncoder\n",
    "from sklearn.compose import make_column_transformer\n",
    "from sklearn import metrics\n",
    "from sklearn.model_selection import train_test_split\n",
    "from sklearn.model_selection import cross_val_score\n",
    "from sklearn.ensemble import RandomForestRegressor\n",
    "\n",
    "# Method that split input data into that 67% train and 33% test data set\n",
    "def get_train_test(X, y):\n",
    "    X_train, X_test, y_train, y_test = train_test_split(X, y, test_size=0.33, random_state=42)\n",
    "    return X_train, X_test, y_train, y_test\n",
    "\n",
    "def corss_validation(model, X, y):\n",
    "    score = cross_val_score(model, X, y,scoring='accuracy', cv=3, n_jobs = -1)\n",
    "    print('Cross Validation Accuracy: %.3f mean with a standard deviation of %.3f' % (score.mean(), score.std()))\n",
    "\n",
    "\n",
    "# Method that generate metrics for precision & recall, F1 score, as well as conufsion matrix\n",
    "def classification_metrics(test, predict):\n",
    "    met = metrics.classification_report(test, predict)\n",
    "    print(\"classification metrics:\")\n",
    "    print(met)\n",
    "    print('\\n')\n",
    "    # compute confusion matrix\n",
    "    conf_matrix = metrics.confusion_matrix(test, predict)\n",
    "    ax = sns.heatmap(conf_matrix, annot=True, cmap='Blues', fmt='g')\n",
    "    ax.set_title('Confusion Matrix\\n')\n",
    "    ax.set_xlabel('Predicted value')\n",
    "    ax.set_ylabel('Actual Values ')\n",
    "    ax.xaxis.set_ticklabels(['False','True'])\n",
    "    ax.yaxis.set_ticklabels(['False','True'])\n",
    "    plt.show()\n",
    "\n",
    "def regression_metrics(model, X_train, y_train, kfold):\n",
    "    scoring = \"neg_mean_absolute_error\"\n",
    "    results = cross_val_score(model, X_train, y_train, cv=kfold, scoring=scoring)\n",
    "    print(\"Mean Absolute Error: \", results.mean())\n",
    "    print(\"Standard Deviation: \", results.std())\n",
    "\n",
    "    scoring = \"neg_mean_squared_error\"\n",
    "    results = cross_val_score(model, X_train, y_train, cv=kfold, scoring=scoring)\n",
    "    print() \n",
    "    print(\"Mean Squared Error: \", results.mean())\n",
    "    print(\"Standard Deviation: \", results.std())\n",
    "\n",
    "    scoring = \"r2\"\n",
    "    results = cross_val_score(model, X_train, y_train, cv=kfold, scoring=scoring)\n",
    "    print()\n",
    "    print(\"R squared val: \", results.mean())\n",
    "    print(\"Standard Deviation: \", results.std())"
   ]
  },
  {
   "cell_type": "code",
   "execution_count": 2,
   "metadata": {},
   "outputs": [],
   "source": [
    "df = pd.read_csv('data/clean_data.csv')"
   ]
  },
  {
   "cell_type": "code",
   "execution_count": 3,
   "metadata": {},
   "outputs": [
    {
     "data": {
      "text/plain": [
       "Index(['Unnamed: 0', 'OccupancyDateTime', 'PaidOccupancy', 'BlockfaceName',\n",
       "       'SideOfStreet', 'SourceElementKey', 'ParkingTimeLimitCategory',\n",
       "       'ParkingSpaceCount', 'PaidParkingArea', 'PaidParkingSubArea',\n",
       "       'ParkingCategory', 'Location', 'OccupancyPercentage', 'HasAvailability',\n",
       "       'AvailableSpace', 'Latitude', 'Longitude', 'Holiday', 'DayOfTheWeek',\n",
       "       'Year', 'Month', 'Day', 'Hour', 'Minute', 'Second', 'MinuteOfTheDay'],\n",
       "      dtype='object')"
      ]
     },
     "execution_count": 3,
     "metadata": {},
     "output_type": "execute_result"
    }
   ],
   "source": [
    "df.columns"
   ]
  },
  {
   "cell_type": "markdown",
   "metadata": {},
   "source": [
    "# Data Transform"
   ]
  },
  {
   "cell_type": "code",
   "execution_count": 7,
   "metadata": {},
   "outputs": [],
   "source": [
    "y = df['AvailableSpace']\n",
    "features = df[['DayOfTheWeek', 'MinuteOfTheDay', 'Latitude', 'Longitude', 'ParkingTimeLimitCategory', 'BlockfaceName']]\n",
    "ohe = OneHotEncoder()\n",
    "vect = TfidfVectorizer(analyzer='word', lowercase = True, stop_words='english')\n",
    "ct = make_column_transformer(\n",
    "    (ohe, ['ParkingTimeLimitCategory']),\n",
    "    (vect,'BlockfaceName'),\n",
    "    remainder = 'passthrough'\n",
    ")\n",
    "X = ct.fit_transform(features)"
   ]
  },
  {
   "cell_type": "code",
   "execution_count": 9,
   "metadata": {},
   "outputs": [],
   "source": [
    "from imblearn.under_sampling import RandomUnderSampler\n",
    "rus = RandomUnderSampler(random_state=0, replacement=True)\n",
    "X_resampled, y_resampled = rus.fit_resample(X, y)"
   ]
  },
  {
   "cell_type": "markdown",
   "metadata": {},
   "source": [
    "# Regression on balanced data"
   ]
  },
  {
   "cell_type": "code",
   "execution_count": 10,
   "metadata": {},
   "outputs": [
    {
     "data": {
      "text/plain": [
       "RandomForestRegressor(max_depth=16, n_jobs=-1, random_state=0)"
      ]
     },
     "execution_count": 10,
     "metadata": {},
     "output_type": "execute_result"
    }
   ],
   "source": [
    "X_train, X_test, y_train, y_test = get_train_test(X_resampled, y_resampled)\n",
    "model = RandomForestRegressor(max_depth=16, random_state=0, n_jobs=-1)\n",
    "model.fit(X_train, y_train)"
   ]
  },
  {
   "cell_type": "code",
   "execution_count": 11,
   "metadata": {},
   "outputs": [
    {
     "name": "stdout",
     "output_type": "stream",
     "text": [
      "Mean Absolute Error:  -1.7555723213611742\n",
      "Standard Deviation:  0.05648922398365396\n",
      "\n",
      "Mean Squared Error:  -6.173576259301595\n",
      "Standard Deviation:  0.2538566908087089\n",
      "\n",
      "R squared val:  0.948682505535515\n",
      "Standard Deviation:  0.002535482622250676\n"
     ]
    }
   ],
   "source": [
    "regression_metrics(model, X_train, y_train, 3)"
   ]
  },
  {
   "cell_type": "markdown",
   "metadata": {},
   "source": [
    "# Tuning HyperParameters"
   ]
  },
  {
   "cell_type": "code",
   "execution_count": null,
   "metadata": {},
   "outputs": [],
   "source": []
  },
  {
   "cell_type": "markdown",
   "metadata": {},
   "source": [
    "# Front-End Prediction"
   ]
  },
  {
   "cell_type": "markdown",
   "metadata": {},
   "source": []
  }
 ],
 "metadata": {
  "interpreter": {
   "hash": "40d3a090f54c6569ab1632332b64b2c03c39dcf918b08424e98f38b5ae0af88f"
  },
  "kernelspec": {
   "display_name": "Python 3.9.7",
   "language": "python",
   "name": "python3"
  },
  "language_info": {
   "codemirror_mode": {
    "name": "ipython",
    "version": 3
   },
   "file_extension": ".py",
   "mimetype": "text/x-python",
   "name": "python",
   "nbconvert_exporter": "python",
   "pygments_lexer": "ipython3",
   "version": "3.9.7"
  },
  "orig_nbformat": 4
 },
 "nbformat": 4,
 "nbformat_minor": 2
}
