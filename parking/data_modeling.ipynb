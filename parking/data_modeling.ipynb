{
 "cells": [
  {
   "cell_type": "code",
   "execution_count": 1,
   "metadata": {},
   "outputs": [],
   "source": [
    "import pandas as pd\n",
    "from sklearn.feature_extraction.text import TfidfVectorizer\n",
    "import seaborn as sns\n",
    "import matplotlib.pyplot as plt\n",
    "from sklearn.preprocessing import OneHotEncoder\n",
    "from sklearn.compose import make_column_transformer\n",
    "from sklearn import metrics\n",
    "from sklearn.model_selection import train_test_split\n",
    "from sklearn.model_selection import cross_val_score\n",
    "from sklearn.ensemble import RandomForestRegressor\n",
    "from imblearn.under_sampling import RandomUnderSampler\n",
    "\n",
    "# Method that split input data into that 67% train and 33% test data set\n",
    "def get_train_test(X, y):\n",
    "    X_train, X_test, y_train, y_test = train_test_split(X, y, test_size=0.33, random_state=42)\n",
    "    return X_train, X_test, y_train, y_test\n",
    "\n",
    "def corss_validation(model, X, y):\n",
    "    score = cross_val_score(model, X, y,scoring='accuracy', cv=3, n_jobs = -1)\n",
    "    print('Cross Validation Accuracy: %.3f mean with a standard deviation of %.3f' % (score.mean(), score.std()))\n",
    "\n",
    "\n",
    "# Method that generate metrics for precision & recall, F1 score, as well as conufsion matrix\n",
    "def classification_metrics(test, predict):\n",
    "    met = metrics.classification_report(test, predict)\n",
    "    print(\"classification metrics:\")\n",
    "    print(met)\n",
    "    print('\\n')\n",
    "    # compute confusion matrix\n",
    "    conf_matrix = metrics.confusion_matrix(test, predict)\n",
    "    ax = sns.heatmap(conf_matrix, annot=True, cmap='Blues', fmt='g')\n",
    "    ax.set_title('Confusion Matrix\\n')\n",
    "    ax.set_xlabel('Predicted value')\n",
    "    ax.set_ylabel('Actual Values ')\n",
    "    ax.xaxis.set_ticklabels(['False','True'])\n",
    "    ax.yaxis.set_ticklabels(['False','True'])\n",
    "    plt.show()\n",
    "\n",
    "def regression_metrics(model, X_train, y_train, kfold):\n",
    "    scoring = \"neg_mean_absolute_error\"\n",
    "    results = cross_val_score(model, X_train, y_train, cv=kfold, scoring=scoring)\n",
    "    print(\"Mean Absolute Error: \", results.mean())\n",
    "    print(\"Standard Deviation: \", results.std())\n",
    "\n",
    "    scoring = \"neg_mean_squared_error\"\n",
    "    results = cross_val_score(model, X_train, y_train, cv=kfold, scoring=scoring)\n",
    "    print() \n",
    "    print(\"Mean Squared Error: \", results.mean())\n",
    "    print(\"Standard Deviation: \", results.std())\n",
    "\n",
    "    scoring = \"r2\"\n",
    "    results = cross_val_score(model, X_train, y_train, cv=kfold, scoring=scoring)\n",
    "    print()\n",
    "    print(\"R squared val: \", results.mean())\n",
    "    print(\"Standard Deviation: \", results.std())"
   ]
  },
  {
   "cell_type": "code",
   "execution_count": 2,
   "metadata": {},
   "outputs": [],
   "source": [
    "df = pd.read_csv('data/clean_data.csv')"
   ]
  },
  {
   "cell_type": "markdown",
   "metadata": {},
   "source": [
    "# Data Transform"
   ]
  },
  {
   "cell_type": "code",
   "execution_count": 4,
   "metadata": {},
   "outputs": [],
   "source": [
    "y = df['AvailableSpace']\n",
    "features = df[['DayOfTheWeek', 'MinuteOfTheDay', 'Latitude', 'Longitude', 'ParkingTimeLimitCategory', 'BlockfaceName', 'ParkingSpaceCount']]\n",
    "# ohe = OneHotEncoder()\n",
    "vect = TfidfVectorizer(analyzer='word', lowercase = True, stop_words='english')\n",
    "ct = make_column_transformer(\n",
    "    (vect,'BlockfaceName'),\n",
    "    remainder = 'passthrough'\n",
    ")\n",
    "X = ct.fit_transform(features)"
   ]
  },
  {
   "cell_type": "code",
   "execution_count": 5,
   "metadata": {},
   "outputs": [],
   "source": [
    "rus = RandomUnderSampler(random_state=0, replacement=True)\n",
    "X_resampled, y_resampled = rus.fit_resample(X, y)"
   ]
  },
  {
   "cell_type": "markdown",
   "metadata": {},
   "source": [
    "# Regression on balanced data"
   ]
  },
  {
   "cell_type": "code",
   "execution_count": 6,
   "metadata": {},
   "outputs": [],
   "source": [
    "X_train, X_test, y_train, y_test = get_train_test(X_resampled, y_resampled)"
   ]
  },
  {
   "cell_type": "code",
   "execution_count": 7,
   "metadata": {},
   "outputs": [],
   "source": [
    "rfr = RandomForestRegressor(max_depth=16, random_state=0, n_jobs=-1)\n",
    "rfr = rfr.fit(X_train, y_train)"
   ]
  },
  {
   "cell_type": "code",
   "execution_count": 8,
   "metadata": {},
   "outputs": [
    {
     "name": "stdout",
     "output_type": "stream",
     "text": [
      "Mean Absolute Error:  -1.1581731372527444\n",
      "Standard Deviation:  0.011899747139419575\n",
      "\n",
      "Mean Squared Error:  -2.6514704782154395\n",
      "Standard Deviation:  0.07404408552371411\n",
      "\n",
      "R squared val:  0.9647124495071442\n",
      "Standard Deviation:  0.0011478135836000545\n"
     ]
    }
   ],
   "source": [
    "regression_metrics(rfr, X_train, y_train, 10)"
   ]
  },
  {
   "cell_type": "code",
   "execution_count": 9,
   "metadata": {},
   "outputs": [],
   "source": [
    "features2 = df[['DayOfTheWeek', 'MinuteOfTheDay', 'Latitude', 'Longitude', 'BlockfaceName', 'ParkingSpaceCount']]\n",
    "vect = TfidfVectorizer(analyzer='word', lowercase = True, stop_words='english')\n",
    "X2 = ct.fit_transform(features)\n",
    "X_resampled2, y_resampled2 = rus.fit_resample(X2, y)\n",
    "X_train2, X_test2, y_train2, y_test2 = get_train_test(X_resampled2, y_resampled2)"
   ]
  },
  {
   "cell_type": "code",
   "execution_count": 10,
   "metadata": {},
   "outputs": [],
   "source": [
    "rfr2 = RandomForestRegressor(max_depth=16, random_state=0, n_jobs=-1)\n",
    "rfr2 = rfr2.fit(X_train2, y_train2)"
   ]
  },
  {
   "cell_type": "code",
   "execution_count": 11,
   "metadata": {},
   "outputs": [
    {
     "name": "stdout",
     "output_type": "stream",
     "text": [
      "Mean Absolute Error:  -1.1581731372527444\n",
      "Standard Deviation:  0.011899747139419575\n",
      "\n",
      "Mean Squared Error:  -2.6514704782154395\n",
      "Standard Deviation:  0.07404408552371411\n",
      "\n",
      "R squared val:  0.9647124495071442\n",
      "Standard Deviation:  0.0011478135836000545\n"
     ]
    }
   ],
   "source": [
    "regression_metrics(rfr2, X_train2, y_train2, 10)"
   ]
  },
  {
   "cell_type": "code",
   "execution_count": 23,
   "metadata": {},
   "outputs": [],
   "source": [
    "features3 = df[['DayOfTheWeek', 'MinuteOfTheDay', 'Latitude', 'Longitude', 'BlockfaceName','ParkingTimeLimitCategory']]\n",
    "vect = TfidfVectorizer(analyzer='word', lowercase = True, stop_words='english')\n",
    "ohe = OneHotEncoder()\n",
    "vect = TfidfVectorizer(analyzer='word', lowercase = True, stop_words='english')\n",
    "ct = make_column_transformer(\n",
    "    (vect,'BlockfaceName'),\n",
    "    (ohe, ['ParkingTimeLimitCategory']),\n",
    "    remainder = 'passthrough'\n",
    ")\n",
    "X3 = ct.fit_transform(features)\n",
    "X_resampled3, y_resampled3 = rus.fit_resample(X3, y)\n",
    "X_train3, X_test3, y_train3, y_test3 = get_train_test(X_resampled3, y_resampled3)"
   ]
  },
  {
   "cell_type": "code",
   "execution_count": 42,
   "metadata": {},
   "outputs": [
    {
     "data": {
      "text/plain": [
       "RandomForestRegressor(max_depth=16, n_jobs=-1, random_state=0)"
      ]
     },
     "execution_count": 42,
     "metadata": {},
     "output_type": "execute_result"
    }
   ],
   "source": [
    "rfr3 = RandomForestRegressor(max_depth=16, random_state=0, n_jobs=-1)\n",
    "rfr3 = rfr3.fit(X_train3, y_train3)"
   ]
  },
  {
   "cell_type": "code",
   "execution_count": 43,
   "metadata": {},
   "outputs": [
    {
     "name": "stdout",
     "output_type": "stream",
     "text": [
      "Mean Absolute Error:  -1.1582323983565659\n",
      "Standard Deviation:  0.011906212336118079\n",
      "\n",
      "Mean Squared Error:  -2.6514012421051807\n",
      "Standard Deviation:  0.07367194778906538\n",
      "\n",
      "R squared val:  0.9647133185658721\n",
      "Standard Deviation:  0.001145400674094431\n"
     ]
    }
   ],
   "source": [
    "regression_metrics(rfr3, X_train3, y_train3, 10)"
   ]
  },
  {
   "cell_type": "code",
   "execution_count": null,
   "metadata": {},
   "outputs": [],
   "source": [
    "features4 = df[['DayOfTheWeek', 'MinuteOfTheDay', 'Latitude', 'Longitude']]\n",
    "X_resampled4, y_resampled4 = rus.fit_resample(features4, y)\n",
    "X_train4, X_test4, y_train4, y_test4 = get_train_test(X_resampled4, y_resampled4)"
   ]
  },
  {
   "cell_type": "code",
   "execution_count": null,
   "metadata": {},
   "outputs": [],
   "source": [
    "rfr4 = RandomForestRegressor(max_depth=16, random_state=0, n_jobs=-1)\n",
    "rfr4 = rfr4.fit(X_train4, y_train4)"
   ]
  },
  {
   "cell_type": "code",
   "execution_count": null,
   "metadata": {},
   "outputs": [],
   "source": [
    "regression_metrics(rfr4, X_train4, y_train4, 10)"
   ]
  },
  {
   "cell_type": "markdown",
   "metadata": {},
   "source": [
    "# Front-End Prediction"
   ]
  },
  {
   "cell_type": "code",
   "execution_count": 41,
   "metadata": {},
   "outputs": [
    {
     "data": {
      "text/plain": [
       "array([[0.7071067811865475, 0.35355339059327373, 0.35355339059327373,\n",
       "        0.35355339059327373, 0.35355339059327373, 1.0, 5, 600,\n",
       "        -122.33651591, 47.62326784]], dtype=object)"
      ]
     },
     "execution_count": 41,
     "metadata": {},
     "output_type": "execute_result"
    }
   ],
   "source": [
    "f = ['DayOfTheWeek', 'MinuteOfTheDay', 'Latitude', 'Longitude', 'BlockfaceName','ParkingTimeLimitCategory']\n",
    "user_in = [5, 600, -122.33651591,47.62326784,'REPUBLICAN ST BETWEEN TERRY AVE N AND BOREN AVE N', 8]\n",
    "user_df = pd.DataFrame(user_in).T\n",
    "user_df.columns = f\n",
    "\n",
    "transformed_user_in = ct.fit_transform(user_df)\n",
    "transformed_user_in \n"
   ]
  },
  {
   "cell_type": "code",
   "execution_count": 44,
   "metadata": {},
   "outputs": [
    {
     "ename": "ValueError",
     "evalue": "X has 10 features, but DecisionTreeRegressor is expecting 56 features as input.",
     "output_type": "error",
     "traceback": [
      "\u001b[0;31m---------------------------------------------------------------------------\u001b[0m",
      "\u001b[0;31mValueError\u001b[0m                                Traceback (most recent call last)",
      "\u001b[0;32m/var/folders/50/_bd3qq2s24384tp_h3lqyhgh0000gn/T/ipykernel_34385/131997276.py\u001b[0m in \u001b[0;36m<module>\u001b[0;34m\u001b[0m\n\u001b[0;32m----> 1\u001b[0;31m \u001b[0mout\u001b[0m \u001b[0;34m=\u001b[0m \u001b[0mrfr\u001b[0m\u001b[0;34m.\u001b[0m\u001b[0mpredict\u001b[0m\u001b[0;34m(\u001b[0m\u001b[0mtransformed_user_in\u001b[0m\u001b[0;34m)\u001b[0m\u001b[0;34m\u001b[0m\u001b[0;34m\u001b[0m\u001b[0m\n\u001b[0m\u001b[1;32m      2\u001b[0m \u001b[0mout\u001b[0m\u001b[0;34m\u001b[0m\u001b[0;34m\u001b[0m\u001b[0m\n",
      "\u001b[0;32m/opt/anaconda3/lib/python3.9/site-packages/sklearn/ensemble/_forest.py\u001b[0m in \u001b[0;36mpredict\u001b[0;34m(self, X)\u001b[0m\n\u001b[1;32m    782\u001b[0m         \u001b[0mcheck_is_fitted\u001b[0m\u001b[0;34m(\u001b[0m\u001b[0mself\u001b[0m\u001b[0;34m)\u001b[0m\u001b[0;34m\u001b[0m\u001b[0;34m\u001b[0m\u001b[0m\n\u001b[1;32m    783\u001b[0m         \u001b[0;31m# Check data\u001b[0m\u001b[0;34m\u001b[0m\u001b[0;34m\u001b[0m\u001b[0m\n\u001b[0;32m--> 784\u001b[0;31m         \u001b[0mX\u001b[0m \u001b[0;34m=\u001b[0m \u001b[0mself\u001b[0m\u001b[0;34m.\u001b[0m\u001b[0m_validate_X_predict\u001b[0m\u001b[0;34m(\u001b[0m\u001b[0mX\u001b[0m\u001b[0;34m)\u001b[0m\u001b[0;34m\u001b[0m\u001b[0;34m\u001b[0m\u001b[0m\n\u001b[0m\u001b[1;32m    785\u001b[0m \u001b[0;34m\u001b[0m\u001b[0m\n\u001b[1;32m    786\u001b[0m         \u001b[0;31m# Assign chunk of trees to jobs\u001b[0m\u001b[0;34m\u001b[0m\u001b[0;34m\u001b[0m\u001b[0m\n",
      "\u001b[0;32m/opt/anaconda3/lib/python3.9/site-packages/sklearn/ensemble/_forest.py\u001b[0m in \u001b[0;36m_validate_X_predict\u001b[0;34m(self, X)\u001b[0m\n\u001b[1;32m    420\u001b[0m         \u001b[0mcheck_is_fitted\u001b[0m\u001b[0;34m(\u001b[0m\u001b[0mself\u001b[0m\u001b[0;34m)\u001b[0m\u001b[0;34m\u001b[0m\u001b[0;34m\u001b[0m\u001b[0m\n\u001b[1;32m    421\u001b[0m \u001b[0;34m\u001b[0m\u001b[0m\n\u001b[0;32m--> 422\u001b[0;31m         \u001b[0;32mreturn\u001b[0m \u001b[0mself\u001b[0m\u001b[0;34m.\u001b[0m\u001b[0mestimators_\u001b[0m\u001b[0;34m[\u001b[0m\u001b[0;36m0\u001b[0m\u001b[0;34m]\u001b[0m\u001b[0;34m.\u001b[0m\u001b[0m_validate_X_predict\u001b[0m\u001b[0;34m(\u001b[0m\u001b[0mX\u001b[0m\u001b[0;34m,\u001b[0m \u001b[0mcheck_input\u001b[0m\u001b[0;34m=\u001b[0m\u001b[0;32mTrue\u001b[0m\u001b[0;34m)\u001b[0m\u001b[0;34m\u001b[0m\u001b[0;34m\u001b[0m\u001b[0m\n\u001b[0m\u001b[1;32m    423\u001b[0m \u001b[0;34m\u001b[0m\u001b[0m\n\u001b[1;32m    424\u001b[0m     \u001b[0;34m@\u001b[0m\u001b[0mproperty\u001b[0m\u001b[0;34m\u001b[0m\u001b[0;34m\u001b[0m\u001b[0m\n",
      "\u001b[0;32m/opt/anaconda3/lib/python3.9/site-packages/sklearn/tree/_classes.py\u001b[0m in \u001b[0;36m_validate_X_predict\u001b[0;34m(self, X, check_input)\u001b[0m\n\u001b[1;32m    405\u001b[0m         \u001b[0;34m\"\"\"Validate the training data on predict (probabilities).\"\"\"\u001b[0m\u001b[0;34m\u001b[0m\u001b[0;34m\u001b[0m\u001b[0m\n\u001b[1;32m    406\u001b[0m         \u001b[0;32mif\u001b[0m \u001b[0mcheck_input\u001b[0m\u001b[0;34m:\u001b[0m\u001b[0;34m\u001b[0m\u001b[0;34m\u001b[0m\u001b[0m\n\u001b[0;32m--> 407\u001b[0;31m             X = self._validate_data(X, dtype=DTYPE, accept_sparse=\"csr\",\n\u001b[0m\u001b[1;32m    408\u001b[0m                                     reset=False)\n\u001b[1;32m    409\u001b[0m             if issparse(X) and (X.indices.dtype != np.intc or\n",
      "\u001b[0;32m/opt/anaconda3/lib/python3.9/site-packages/sklearn/base.py\u001b[0m in \u001b[0;36m_validate_data\u001b[0;34m(self, X, y, reset, validate_separately, **check_params)\u001b[0m\n\u001b[1;32m    435\u001b[0m \u001b[0;34m\u001b[0m\u001b[0m\n\u001b[1;32m    436\u001b[0m         \u001b[0;32mif\u001b[0m \u001b[0mcheck_params\u001b[0m\u001b[0;34m.\u001b[0m\u001b[0mget\u001b[0m\u001b[0;34m(\u001b[0m\u001b[0;34m'ensure_2d'\u001b[0m\u001b[0;34m,\u001b[0m \u001b[0;32mTrue\u001b[0m\u001b[0;34m)\u001b[0m\u001b[0;34m:\u001b[0m\u001b[0;34m\u001b[0m\u001b[0;34m\u001b[0m\u001b[0m\n\u001b[0;32m--> 437\u001b[0;31m             \u001b[0mself\u001b[0m\u001b[0;34m.\u001b[0m\u001b[0m_check_n_features\u001b[0m\u001b[0;34m(\u001b[0m\u001b[0mX\u001b[0m\u001b[0;34m,\u001b[0m \u001b[0mreset\u001b[0m\u001b[0;34m=\u001b[0m\u001b[0mreset\u001b[0m\u001b[0;34m)\u001b[0m\u001b[0;34m\u001b[0m\u001b[0;34m\u001b[0m\u001b[0m\n\u001b[0m\u001b[1;32m    438\u001b[0m \u001b[0;34m\u001b[0m\u001b[0m\n\u001b[1;32m    439\u001b[0m         \u001b[0;32mreturn\u001b[0m \u001b[0mout\u001b[0m\u001b[0;34m\u001b[0m\u001b[0;34m\u001b[0m\u001b[0m\n",
      "\u001b[0;32m/opt/anaconda3/lib/python3.9/site-packages/sklearn/base.py\u001b[0m in \u001b[0;36m_check_n_features\u001b[0;34m(self, X, reset)\u001b[0m\n\u001b[1;32m    363\u001b[0m \u001b[0;34m\u001b[0m\u001b[0m\n\u001b[1;32m    364\u001b[0m         \u001b[0;32mif\u001b[0m \u001b[0mn_features\u001b[0m \u001b[0;34m!=\u001b[0m \u001b[0mself\u001b[0m\u001b[0;34m.\u001b[0m\u001b[0mn_features_in_\u001b[0m\u001b[0;34m:\u001b[0m\u001b[0;34m\u001b[0m\u001b[0;34m\u001b[0m\u001b[0m\n\u001b[0;32m--> 365\u001b[0;31m             raise ValueError(\n\u001b[0m\u001b[1;32m    366\u001b[0m                 \u001b[0;34mf\"X has {n_features} features, but {self.__class__.__name__} \"\u001b[0m\u001b[0;34m\u001b[0m\u001b[0;34m\u001b[0m\u001b[0m\n\u001b[1;32m    367\u001b[0m                 f\"is expecting {self.n_features_in_} features as input.\")\n",
      "\u001b[0;31mValueError\u001b[0m: X has 10 features, but DecisionTreeRegressor is expecting 56 features as input."
     ]
    }
   ],
   "source": [
    "# out = rfr.predict(transformed_user_in)\n",
    "# out"
   ]
  },
  {
   "cell_type": "markdown",
   "metadata": {},
   "source": [
    "# Tuning HyperParameters"
   ]
  },
  {
   "cell_type": "code",
   "execution_count": 14,
   "metadata": {},
   "outputs": [],
   "source": [
    "# from sklearn.model_selection import GridSearchCV\n",
    "# # dict of parameters settings that has been used in hyperparameters tuning\n",
    "# param_grid = dict(\n",
    "#     max_depth = [10, 16, 22],\n",
    "#     random_state = [0, 42, None]\n",
    "# )\n",
    "\n",
    "# grid = GridSearchCV(RandomForestRegressor(), param_grid, refit = True, verbose = 0, n_jobs=-1) "
   ]
  },
  {
   "cell_type": "code",
   "execution_count": 15,
   "metadata": {},
   "outputs": [
    {
     "name": "stdout",
     "output_type": "stream",
     "text": [
      "{'max_depth': 16, 'random_state': 0}\n"
     ]
    }
   ],
   "source": [
    "# # fitting the model for grid search \n",
    "# grid.fit(X_train, y_train) \n",
    " \n",
    "# # print best parameter after tuning \n",
    "# print(grid.best_params_) "
   ]
  }
 ],
 "metadata": {
  "interpreter": {
   "hash": "40d3a090f54c6569ab1632332b64b2c03c39dcf918b08424e98f38b5ae0af88f"
  },
  "kernelspec": {
   "display_name": "Python 3 (ipykernel)",
   "language": "python",
   "name": "python3"
  },
  "language_info": {
   "codemirror_mode": {
    "name": "ipython",
    "version": 3
   },
   "file_extension": ".py",
   "mimetype": "text/x-python",
   "name": "python",
   "nbconvert_exporter": "python",
   "pygments_lexer": "ipython3",
   "version": "3.9.7"
  }
 },
 "nbformat": 4,
 "nbformat_minor": 2
}
